{
  "nbformat": 4,
  "nbformat_minor": 0,
  "metadata": {
    "kernelspec": {
      "display_name": "Python 3",
      "language": "python",
      "name": "python3"
    },
    "language_info": {
      "codemirror_mode": {
        "name": "ipython",
        "version": 3
      },
      "file_extension": ".py",
      "mimetype": "text/x-python",
      "name": "python",
      "nbconvert_exporter": "python",
      "pygments_lexer": "ipython3",
      "version": "3.6.8"
    },
    "colab": {
      "name": "LinearRegression_sesion4.ipynb",
      "provenance": [],
      "collapsed_sections": []
    }
  },
  "cells": [
    {
      "cell_type": "code",
      "metadata": {
        "_cell_guid": "2dbccbd6-138b-4f1b-9b23-fd60c7525c14",
        "_execution_state": "idle",
        "_uuid": "c9b1d5dff21d39260eb47af6fe7aac4bd03be233",
        "id": "FLyxWOcGGdaq",
        "colab_type": "code",
        "outputId": "9c220428-d6a1-42fb-a5d3-eef9f1b85389",
        "colab": {
          "base_uri": "https://localhost:8080/",
          "height": 33
        }
      },
      "source": [
        "from google.colab import drive\n",
        "drive.mount('/content/drive')"
      ],
      "execution_count": 1,
      "outputs": [
        {
          "output_type": "stream",
          "text": [
            "Drive already mounted at /content/drive; to attempt to forcibly remount, call drive.mount(\"/content/drive\", force_remount=True).\n"
          ],
          "name": "stdout"
        }
      ]
    },
    {
      "cell_type": "code",
      "metadata": {
        "id": "NNbnhrGBHCWn",
        "colab_type": "code",
        "outputId": "17672422-125d-46dd-8722-8a5fd7bf394e",
        "colab": {
          "base_uri": "https://localhost:8080/",
          "height": 33
        }
      },
      "source": [
        "cd /content/drive/My Drive/sesiones/Sesión 4-Drive_v1"
      ],
      "execution_count": 2,
      "outputs": [
        {
          "output_type": "stream",
          "text": [
            "/content/drive/My Drive/sesiones/Sesión 4-Drive_v1\n"
          ],
          "name": "stdout"
        }
      ]
    },
    {
      "cell_type": "code",
      "metadata": {
        "id": "cC_oYPntHEym",
        "colab_type": "code",
        "outputId": "23fd0d1c-7daf-4553-ace6-e4ddb66d5b26",
        "colab": {
          "base_uri": "https://localhost:8080/",
          "height": 66
        }
      },
      "source": [
        "ls"
      ],
      "execution_count": 3,
      "outputs": [
        {
          "output_type": "stream",
          "text": [
            " data_description.gdoc                                test.csv\n",
            " data_description.txt                                 train.csv\n",
            "'Stacked Regressions _ Top 4% on LeaderBoard.ipynb'\n"
          ],
          "name": "stdout"
        }
      ]
    },
    {
      "cell_type": "markdown",
      "metadata": {
        "id": "vVoD4zSRICQ8",
        "colab_type": "text"
      },
      "source": [
        "# Presentacion del dataset Housing Price California"
      ]
    },
    {
      "cell_type": "markdown",
      "metadata": {
        "id": "UZ-nBwIt-b0P",
        "colab_type": "text"
      },
      "source": [
        "Vamos a revisar el archivo \"data_description.txt\" el cual contiene un diccionario sobre el significado de las variables predictoras"
      ]
    },
    {
      "cell_type": "code",
      "metadata": {
        "id": "cBFGEzrwGqDH",
        "colab_type": "code",
        "colab": {}
      },
      "source": [
        "#importamos las librerias\n",
        "import numpy as np\n",
        "import pandas as pd\n",
        "%matplotlib inline\n",
        "import matplotlib.pyplot as plt\n",
        "import seaborn as sns\n",
        "from scipy import stats\n",
        "from scipy.stats import norm, skew\n",
        "import missingno as ms"
      ],
      "execution_count": 0,
      "outputs": []
    },
    {
      "cell_type": "code",
      "metadata": {
        "_cell_guid": "59617b4b-d797-44ce-9142-05fbfd36aada",
        "_execution_state": "idle",
        "_uuid": "0e694d13459e3e200f6e2c6333c887cbad779ba9",
        "id": "yPSUeZuGGdaw",
        "colab_type": "code",
        "colab": {}
      },
      "source": [
        "train = pd.read_csv('train.csv')\n",
        "test = pd.read_csv('test.csv')"
      ],
      "execution_count": 0,
      "outputs": []
    },
    {
      "cell_type": "code",
      "metadata": {
        "id": "Vji5CCLuGda0",
        "colab_type": "code",
        "outputId": "50d272ed-cddf-47a2-936c-288a513fa7b1",
        "colab": {
          "base_uri": "https://localhost:8080/",
          "height": 33
        }
      },
      "source": [
        "train.shape"
      ],
      "execution_count": 6,
      "outputs": [
        {
          "output_type": "execute_result",
          "data": {
            "text/plain": [
              "(1460, 81)"
            ]
          },
          "metadata": {
            "tags": []
          },
          "execution_count": 6
        }
      ]
    },
    {
      "cell_type": "code",
      "metadata": {
        "_cell_guid": "3678529f-9d76-4853-88c5-4b2d230a85b6",
        "_execution_state": "idle",
        "_uuid": "3a32f51460a02fbe7a9122db55a740eb378dda97",
        "id": "HI3AVBp5Gda5",
        "colab_type": "code",
        "outputId": "4629316b-748c-4c3d-a308-6bff4c81acaa",
        "colab": {
          "base_uri": "https://localhost:8080/",
          "height": 238
        }
      },
      "source": [
        "train.head(5)"
      ],
      "execution_count": 7,
      "outputs": [
        {
          "output_type": "execute_result",
          "data": {
            "text/html": [
              "<div>\n",
              "<style scoped>\n",
              "    .dataframe tbody tr th:only-of-type {\n",
              "        vertical-align: middle;\n",
              "    }\n",
              "\n",
              "    .dataframe tbody tr th {\n",
              "        vertical-align: top;\n",
              "    }\n",
              "\n",
              "    .dataframe thead th {\n",
              "        text-align: right;\n",
              "    }\n",
              "</style>\n",
              "<table border=\"1\" class=\"dataframe\">\n",
              "  <thead>\n",
              "    <tr style=\"text-align: right;\">\n",
              "      <th></th>\n",
              "      <th>Id</th>\n",
              "      <th>MSSubClass</th>\n",
              "      <th>MSZoning</th>\n",
              "      <th>LotFrontage</th>\n",
              "      <th>LotArea</th>\n",
              "      <th>Street</th>\n",
              "      <th>Alley</th>\n",
              "      <th>LotShape</th>\n",
              "      <th>LandContour</th>\n",
              "      <th>Utilities</th>\n",
              "      <th>LotConfig</th>\n",
              "      <th>LandSlope</th>\n",
              "      <th>Neighborhood</th>\n",
              "      <th>Condition1</th>\n",
              "      <th>Condition2</th>\n",
              "      <th>BldgType</th>\n",
              "      <th>HouseStyle</th>\n",
              "      <th>OverallQual</th>\n",
              "      <th>OverallCond</th>\n",
              "      <th>YearBuilt</th>\n",
              "      <th>YearRemodAdd</th>\n",
              "      <th>RoofStyle</th>\n",
              "      <th>RoofMatl</th>\n",
              "      <th>Exterior1st</th>\n",
              "      <th>Exterior2nd</th>\n",
              "      <th>MasVnrType</th>\n",
              "      <th>MasVnrArea</th>\n",
              "      <th>ExterQual</th>\n",
              "      <th>ExterCond</th>\n",
              "      <th>Foundation</th>\n",
              "      <th>BsmtQual</th>\n",
              "      <th>BsmtCond</th>\n",
              "      <th>BsmtExposure</th>\n",
              "      <th>BsmtFinType1</th>\n",
              "      <th>BsmtFinSF1</th>\n",
              "      <th>BsmtFinType2</th>\n",
              "      <th>BsmtFinSF2</th>\n",
              "      <th>BsmtUnfSF</th>\n",
              "      <th>TotalBsmtSF</th>\n",
              "      <th>Heating</th>\n",
              "      <th>...</th>\n",
              "      <th>CentralAir</th>\n",
              "      <th>Electrical</th>\n",
              "      <th>1stFlrSF</th>\n",
              "      <th>2ndFlrSF</th>\n",
              "      <th>LowQualFinSF</th>\n",
              "      <th>GrLivArea</th>\n",
              "      <th>BsmtFullBath</th>\n",
              "      <th>BsmtHalfBath</th>\n",
              "      <th>FullBath</th>\n",
              "      <th>HalfBath</th>\n",
              "      <th>BedroomAbvGr</th>\n",
              "      <th>KitchenAbvGr</th>\n",
              "      <th>KitchenQual</th>\n",
              "      <th>TotRmsAbvGrd</th>\n",
              "      <th>Functional</th>\n",
              "      <th>Fireplaces</th>\n",
              "      <th>FireplaceQu</th>\n",
              "      <th>GarageType</th>\n",
              "      <th>GarageYrBlt</th>\n",
              "      <th>GarageFinish</th>\n",
              "      <th>GarageCars</th>\n",
              "      <th>GarageArea</th>\n",
              "      <th>GarageQual</th>\n",
              "      <th>GarageCond</th>\n",
              "      <th>PavedDrive</th>\n",
              "      <th>WoodDeckSF</th>\n",
              "      <th>OpenPorchSF</th>\n",
              "      <th>EnclosedPorch</th>\n",
              "      <th>3SsnPorch</th>\n",
              "      <th>ScreenPorch</th>\n",
              "      <th>PoolArea</th>\n",
              "      <th>PoolQC</th>\n",
              "      <th>Fence</th>\n",
              "      <th>MiscFeature</th>\n",
              "      <th>MiscVal</th>\n",
              "      <th>MoSold</th>\n",
              "      <th>YrSold</th>\n",
              "      <th>SaleType</th>\n",
              "      <th>SaleCondition</th>\n",
              "      <th>SalePrice</th>\n",
              "    </tr>\n",
              "  </thead>\n",
              "  <tbody>\n",
              "    <tr>\n",
              "      <th>0</th>\n",
              "      <td>1</td>\n",
              "      <td>60</td>\n",
              "      <td>RL</td>\n",
              "      <td>65.0</td>\n",
              "      <td>8450</td>\n",
              "      <td>Pave</td>\n",
              "      <td>NaN</td>\n",
              "      <td>Reg</td>\n",
              "      <td>Lvl</td>\n",
              "      <td>AllPub</td>\n",
              "      <td>Inside</td>\n",
              "      <td>Gtl</td>\n",
              "      <td>CollgCr</td>\n",
              "      <td>Norm</td>\n",
              "      <td>Norm</td>\n",
              "      <td>1Fam</td>\n",
              "      <td>2Story</td>\n",
              "      <td>7</td>\n",
              "      <td>5</td>\n",
              "      <td>2003</td>\n",
              "      <td>2003</td>\n",
              "      <td>Gable</td>\n",
              "      <td>CompShg</td>\n",
              "      <td>VinylSd</td>\n",
              "      <td>VinylSd</td>\n",
              "      <td>BrkFace</td>\n",
              "      <td>196.0</td>\n",
              "      <td>Gd</td>\n",
              "      <td>TA</td>\n",
              "      <td>PConc</td>\n",
              "      <td>Gd</td>\n",
              "      <td>TA</td>\n",
              "      <td>No</td>\n",
              "      <td>GLQ</td>\n",
              "      <td>706</td>\n",
              "      <td>Unf</td>\n",
              "      <td>0</td>\n",
              "      <td>150</td>\n",
              "      <td>856</td>\n",
              "      <td>GasA</td>\n",
              "      <td>...</td>\n",
              "      <td>Y</td>\n",
              "      <td>SBrkr</td>\n",
              "      <td>856</td>\n",
              "      <td>854</td>\n",
              "      <td>0</td>\n",
              "      <td>1710</td>\n",
              "      <td>1</td>\n",
              "      <td>0</td>\n",
              "      <td>2</td>\n",
              "      <td>1</td>\n",
              "      <td>3</td>\n",
              "      <td>1</td>\n",
              "      <td>Gd</td>\n",
              "      <td>8</td>\n",
              "      <td>Typ</td>\n",
              "      <td>0</td>\n",
              "      <td>NaN</td>\n",
              "      <td>Attchd</td>\n",
              "      <td>2003.0</td>\n",
              "      <td>RFn</td>\n",
              "      <td>2</td>\n",
              "      <td>548</td>\n",
              "      <td>TA</td>\n",
              "      <td>TA</td>\n",
              "      <td>Y</td>\n",
              "      <td>0</td>\n",
              "      <td>61</td>\n",
              "      <td>0</td>\n",
              "      <td>0</td>\n",
              "      <td>0</td>\n",
              "      <td>0</td>\n",
              "      <td>NaN</td>\n",
              "      <td>NaN</td>\n",
              "      <td>NaN</td>\n",
              "      <td>0</td>\n",
              "      <td>2</td>\n",
              "      <td>2008</td>\n",
              "      <td>WD</td>\n",
              "      <td>Normal</td>\n",
              "      <td>208500</td>\n",
              "    </tr>\n",
              "    <tr>\n",
              "      <th>1</th>\n",
              "      <td>2</td>\n",
              "      <td>20</td>\n",
              "      <td>RL</td>\n",
              "      <td>80.0</td>\n",
              "      <td>9600</td>\n",
              "      <td>Pave</td>\n",
              "      <td>NaN</td>\n",
              "      <td>Reg</td>\n",
              "      <td>Lvl</td>\n",
              "      <td>AllPub</td>\n",
              "      <td>FR2</td>\n",
              "      <td>Gtl</td>\n",
              "      <td>Veenker</td>\n",
              "      <td>Feedr</td>\n",
              "      <td>Norm</td>\n",
              "      <td>1Fam</td>\n",
              "      <td>1Story</td>\n",
              "      <td>6</td>\n",
              "      <td>8</td>\n",
              "      <td>1976</td>\n",
              "      <td>1976</td>\n",
              "      <td>Gable</td>\n",
              "      <td>CompShg</td>\n",
              "      <td>MetalSd</td>\n",
              "      <td>MetalSd</td>\n",
              "      <td>None</td>\n",
              "      <td>0.0</td>\n",
              "      <td>TA</td>\n",
              "      <td>TA</td>\n",
              "      <td>CBlock</td>\n",
              "      <td>Gd</td>\n",
              "      <td>TA</td>\n",
              "      <td>Gd</td>\n",
              "      <td>ALQ</td>\n",
              "      <td>978</td>\n",
              "      <td>Unf</td>\n",
              "      <td>0</td>\n",
              "      <td>284</td>\n",
              "      <td>1262</td>\n",
              "      <td>GasA</td>\n",
              "      <td>...</td>\n",
              "      <td>Y</td>\n",
              "      <td>SBrkr</td>\n",
              "      <td>1262</td>\n",
              "      <td>0</td>\n",
              "      <td>0</td>\n",
              "      <td>1262</td>\n",
              "      <td>0</td>\n",
              "      <td>1</td>\n",
              "      <td>2</td>\n",
              "      <td>0</td>\n",
              "      <td>3</td>\n",
              "      <td>1</td>\n",
              "      <td>TA</td>\n",
              "      <td>6</td>\n",
              "      <td>Typ</td>\n",
              "      <td>1</td>\n",
              "      <td>TA</td>\n",
              "      <td>Attchd</td>\n",
              "      <td>1976.0</td>\n",
              "      <td>RFn</td>\n",
              "      <td>2</td>\n",
              "      <td>460</td>\n",
              "      <td>TA</td>\n",
              "      <td>TA</td>\n",
              "      <td>Y</td>\n",
              "      <td>298</td>\n",
              "      <td>0</td>\n",
              "      <td>0</td>\n",
              "      <td>0</td>\n",
              "      <td>0</td>\n",
              "      <td>0</td>\n",
              "      <td>NaN</td>\n",
              "      <td>NaN</td>\n",
              "      <td>NaN</td>\n",
              "      <td>0</td>\n",
              "      <td>5</td>\n",
              "      <td>2007</td>\n",
              "      <td>WD</td>\n",
              "      <td>Normal</td>\n",
              "      <td>181500</td>\n",
              "    </tr>\n",
              "    <tr>\n",
              "      <th>2</th>\n",
              "      <td>3</td>\n",
              "      <td>60</td>\n",
              "      <td>RL</td>\n",
              "      <td>68.0</td>\n",
              "      <td>11250</td>\n",
              "      <td>Pave</td>\n",
              "      <td>NaN</td>\n",
              "      <td>IR1</td>\n",
              "      <td>Lvl</td>\n",
              "      <td>AllPub</td>\n",
              "      <td>Inside</td>\n",
              "      <td>Gtl</td>\n",
              "      <td>CollgCr</td>\n",
              "      <td>Norm</td>\n",
              "      <td>Norm</td>\n",
              "      <td>1Fam</td>\n",
              "      <td>2Story</td>\n",
              "      <td>7</td>\n",
              "      <td>5</td>\n",
              "      <td>2001</td>\n",
              "      <td>2002</td>\n",
              "      <td>Gable</td>\n",
              "      <td>CompShg</td>\n",
              "      <td>VinylSd</td>\n",
              "      <td>VinylSd</td>\n",
              "      <td>BrkFace</td>\n",
              "      <td>162.0</td>\n",
              "      <td>Gd</td>\n",
              "      <td>TA</td>\n",
              "      <td>PConc</td>\n",
              "      <td>Gd</td>\n",
              "      <td>TA</td>\n",
              "      <td>Mn</td>\n",
              "      <td>GLQ</td>\n",
              "      <td>486</td>\n",
              "      <td>Unf</td>\n",
              "      <td>0</td>\n",
              "      <td>434</td>\n",
              "      <td>920</td>\n",
              "      <td>GasA</td>\n",
              "      <td>...</td>\n",
              "      <td>Y</td>\n",
              "      <td>SBrkr</td>\n",
              "      <td>920</td>\n",
              "      <td>866</td>\n",
              "      <td>0</td>\n",
              "      <td>1786</td>\n",
              "      <td>1</td>\n",
              "      <td>0</td>\n",
              "      <td>2</td>\n",
              "      <td>1</td>\n",
              "      <td>3</td>\n",
              "      <td>1</td>\n",
              "      <td>Gd</td>\n",
              "      <td>6</td>\n",
              "      <td>Typ</td>\n",
              "      <td>1</td>\n",
              "      <td>TA</td>\n",
              "      <td>Attchd</td>\n",
              "      <td>2001.0</td>\n",
              "      <td>RFn</td>\n",
              "      <td>2</td>\n",
              "      <td>608</td>\n",
              "      <td>TA</td>\n",
              "      <td>TA</td>\n",
              "      <td>Y</td>\n",
              "      <td>0</td>\n",
              "      <td>42</td>\n",
              "      <td>0</td>\n",
              "      <td>0</td>\n",
              "      <td>0</td>\n",
              "      <td>0</td>\n",
              "      <td>NaN</td>\n",
              "      <td>NaN</td>\n",
              "      <td>NaN</td>\n",
              "      <td>0</td>\n",
              "      <td>9</td>\n",
              "      <td>2008</td>\n",
              "      <td>WD</td>\n",
              "      <td>Normal</td>\n",
              "      <td>223500</td>\n",
              "    </tr>\n",
              "    <tr>\n",
              "      <th>3</th>\n",
              "      <td>4</td>\n",
              "      <td>70</td>\n",
              "      <td>RL</td>\n",
              "      <td>60.0</td>\n",
              "      <td>9550</td>\n",
              "      <td>Pave</td>\n",
              "      <td>NaN</td>\n",
              "      <td>IR1</td>\n",
              "      <td>Lvl</td>\n",
              "      <td>AllPub</td>\n",
              "      <td>Corner</td>\n",
              "      <td>Gtl</td>\n",
              "      <td>Crawfor</td>\n",
              "      <td>Norm</td>\n",
              "      <td>Norm</td>\n",
              "      <td>1Fam</td>\n",
              "      <td>2Story</td>\n",
              "      <td>7</td>\n",
              "      <td>5</td>\n",
              "      <td>1915</td>\n",
              "      <td>1970</td>\n",
              "      <td>Gable</td>\n",
              "      <td>CompShg</td>\n",
              "      <td>Wd Sdng</td>\n",
              "      <td>Wd Shng</td>\n",
              "      <td>None</td>\n",
              "      <td>0.0</td>\n",
              "      <td>TA</td>\n",
              "      <td>TA</td>\n",
              "      <td>BrkTil</td>\n",
              "      <td>TA</td>\n",
              "      <td>Gd</td>\n",
              "      <td>No</td>\n",
              "      <td>ALQ</td>\n",
              "      <td>216</td>\n",
              "      <td>Unf</td>\n",
              "      <td>0</td>\n",
              "      <td>540</td>\n",
              "      <td>756</td>\n",
              "      <td>GasA</td>\n",
              "      <td>...</td>\n",
              "      <td>Y</td>\n",
              "      <td>SBrkr</td>\n",
              "      <td>961</td>\n",
              "      <td>756</td>\n",
              "      <td>0</td>\n",
              "      <td>1717</td>\n",
              "      <td>1</td>\n",
              "      <td>0</td>\n",
              "      <td>1</td>\n",
              "      <td>0</td>\n",
              "      <td>3</td>\n",
              "      <td>1</td>\n",
              "      <td>Gd</td>\n",
              "      <td>7</td>\n",
              "      <td>Typ</td>\n",
              "      <td>1</td>\n",
              "      <td>Gd</td>\n",
              "      <td>Detchd</td>\n",
              "      <td>1998.0</td>\n",
              "      <td>Unf</td>\n",
              "      <td>3</td>\n",
              "      <td>642</td>\n",
              "      <td>TA</td>\n",
              "      <td>TA</td>\n",
              "      <td>Y</td>\n",
              "      <td>0</td>\n",
              "      <td>35</td>\n",
              "      <td>272</td>\n",
              "      <td>0</td>\n",
              "      <td>0</td>\n",
              "      <td>0</td>\n",
              "      <td>NaN</td>\n",
              "      <td>NaN</td>\n",
              "      <td>NaN</td>\n",
              "      <td>0</td>\n",
              "      <td>2</td>\n",
              "      <td>2006</td>\n",
              "      <td>WD</td>\n",
              "      <td>Abnorml</td>\n",
              "      <td>140000</td>\n",
              "    </tr>\n",
              "    <tr>\n",
              "      <th>4</th>\n",
              "      <td>5</td>\n",
              "      <td>60</td>\n",
              "      <td>RL</td>\n",
              "      <td>84.0</td>\n",
              "      <td>14260</td>\n",
              "      <td>Pave</td>\n",
              "      <td>NaN</td>\n",
              "      <td>IR1</td>\n",
              "      <td>Lvl</td>\n",
              "      <td>AllPub</td>\n",
              "      <td>FR2</td>\n",
              "      <td>Gtl</td>\n",
              "      <td>NoRidge</td>\n",
              "      <td>Norm</td>\n",
              "      <td>Norm</td>\n",
              "      <td>1Fam</td>\n",
              "      <td>2Story</td>\n",
              "      <td>8</td>\n",
              "      <td>5</td>\n",
              "      <td>2000</td>\n",
              "      <td>2000</td>\n",
              "      <td>Gable</td>\n",
              "      <td>CompShg</td>\n",
              "      <td>VinylSd</td>\n",
              "      <td>VinylSd</td>\n",
              "      <td>BrkFace</td>\n",
              "      <td>350.0</td>\n",
              "      <td>Gd</td>\n",
              "      <td>TA</td>\n",
              "      <td>PConc</td>\n",
              "      <td>Gd</td>\n",
              "      <td>TA</td>\n",
              "      <td>Av</td>\n",
              "      <td>GLQ</td>\n",
              "      <td>655</td>\n",
              "      <td>Unf</td>\n",
              "      <td>0</td>\n",
              "      <td>490</td>\n",
              "      <td>1145</td>\n",
              "      <td>GasA</td>\n",
              "      <td>...</td>\n",
              "      <td>Y</td>\n",
              "      <td>SBrkr</td>\n",
              "      <td>1145</td>\n",
              "      <td>1053</td>\n",
              "      <td>0</td>\n",
              "      <td>2198</td>\n",
              "      <td>1</td>\n",
              "      <td>0</td>\n",
              "      <td>2</td>\n",
              "      <td>1</td>\n",
              "      <td>4</td>\n",
              "      <td>1</td>\n",
              "      <td>Gd</td>\n",
              "      <td>9</td>\n",
              "      <td>Typ</td>\n",
              "      <td>1</td>\n",
              "      <td>TA</td>\n",
              "      <td>Attchd</td>\n",
              "      <td>2000.0</td>\n",
              "      <td>RFn</td>\n",
              "      <td>3</td>\n",
              "      <td>836</td>\n",
              "      <td>TA</td>\n",
              "      <td>TA</td>\n",
              "      <td>Y</td>\n",
              "      <td>192</td>\n",
              "      <td>84</td>\n",
              "      <td>0</td>\n",
              "      <td>0</td>\n",
              "      <td>0</td>\n",
              "      <td>0</td>\n",
              "      <td>NaN</td>\n",
              "      <td>NaN</td>\n",
              "      <td>NaN</td>\n",
              "      <td>0</td>\n",
              "      <td>12</td>\n",
              "      <td>2008</td>\n",
              "      <td>WD</td>\n",
              "      <td>Normal</td>\n",
              "      <td>250000</td>\n",
              "    </tr>\n",
              "  </tbody>\n",
              "</table>\n",
              "<p>5 rows × 81 columns</p>\n",
              "</div>"
            ],
            "text/plain": [
              "   Id  MSSubClass MSZoning  ...  SaleType  SaleCondition SalePrice\n",
              "0   1          60       RL  ...        WD         Normal    208500\n",
              "1   2          20       RL  ...        WD         Normal    181500\n",
              "2   3          60       RL  ...        WD         Normal    223500\n",
              "3   4          70       RL  ...        WD        Abnorml    140000\n",
              "4   5          60       RL  ...        WD         Normal    250000\n",
              "\n",
              "[5 rows x 81 columns]"
            ]
          },
          "metadata": {
            "tags": []
          },
          "execution_count": 7
        }
      ]
    },
    {
      "cell_type": "code",
      "metadata": {
        "_cell_guid": "ff37c1ba-8679-49e0-b3c8-9c53d01b1b04",
        "_execution_state": "idle",
        "_uuid": "816b1463b3dd0daf44949a1fa15ebfbc0e2f1235",
        "id": "G6zNlJipGda9",
        "colab_type": "code",
        "outputId": "d55e1371-d1ab-46ca-c041-c289611cbcba",
        "colab": {
          "base_uri": "https://localhost:8080/",
          "height": 211
        }
      },
      "source": [
        "test.head(5)"
      ],
      "execution_count": 8,
      "outputs": [
        {
          "output_type": "execute_result",
          "data": {
            "text/html": [
              "<div>\n",
              "<style scoped>\n",
              "    .dataframe tbody tr th:only-of-type {\n",
              "        vertical-align: middle;\n",
              "    }\n",
              "\n",
              "    .dataframe tbody tr th {\n",
              "        vertical-align: top;\n",
              "    }\n",
              "\n",
              "    .dataframe thead th {\n",
              "        text-align: right;\n",
              "    }\n",
              "</style>\n",
              "<table border=\"1\" class=\"dataframe\">\n",
              "  <thead>\n",
              "    <tr style=\"text-align: right;\">\n",
              "      <th></th>\n",
              "      <th>Id</th>\n",
              "      <th>MSSubClass</th>\n",
              "      <th>MSZoning</th>\n",
              "      <th>LotFrontage</th>\n",
              "      <th>LotArea</th>\n",
              "      <th>Street</th>\n",
              "      <th>Alley</th>\n",
              "      <th>LotShape</th>\n",
              "      <th>LandContour</th>\n",
              "      <th>Utilities</th>\n",
              "      <th>LotConfig</th>\n",
              "      <th>LandSlope</th>\n",
              "      <th>Neighborhood</th>\n",
              "      <th>Condition1</th>\n",
              "      <th>Condition2</th>\n",
              "      <th>BldgType</th>\n",
              "      <th>HouseStyle</th>\n",
              "      <th>OverallQual</th>\n",
              "      <th>OverallCond</th>\n",
              "      <th>YearBuilt</th>\n",
              "      <th>YearRemodAdd</th>\n",
              "      <th>RoofStyle</th>\n",
              "      <th>RoofMatl</th>\n",
              "      <th>Exterior1st</th>\n",
              "      <th>Exterior2nd</th>\n",
              "      <th>MasVnrType</th>\n",
              "      <th>MasVnrArea</th>\n",
              "      <th>ExterQual</th>\n",
              "      <th>ExterCond</th>\n",
              "      <th>Foundation</th>\n",
              "      <th>BsmtQual</th>\n",
              "      <th>BsmtCond</th>\n",
              "      <th>BsmtExposure</th>\n",
              "      <th>BsmtFinType1</th>\n",
              "      <th>BsmtFinSF1</th>\n",
              "      <th>BsmtFinType2</th>\n",
              "      <th>BsmtFinSF2</th>\n",
              "      <th>BsmtUnfSF</th>\n",
              "      <th>TotalBsmtSF</th>\n",
              "      <th>Heating</th>\n",
              "      <th>HeatingQC</th>\n",
              "      <th>CentralAir</th>\n",
              "      <th>Electrical</th>\n",
              "      <th>1stFlrSF</th>\n",
              "      <th>2ndFlrSF</th>\n",
              "      <th>LowQualFinSF</th>\n",
              "      <th>GrLivArea</th>\n",
              "      <th>BsmtFullBath</th>\n",
              "      <th>BsmtHalfBath</th>\n",
              "      <th>FullBath</th>\n",
              "      <th>HalfBath</th>\n",
              "      <th>BedroomAbvGr</th>\n",
              "      <th>KitchenAbvGr</th>\n",
              "      <th>KitchenQual</th>\n",
              "      <th>TotRmsAbvGrd</th>\n",
              "      <th>Functional</th>\n",
              "      <th>Fireplaces</th>\n",
              "      <th>FireplaceQu</th>\n",
              "      <th>GarageType</th>\n",
              "      <th>GarageYrBlt</th>\n",
              "      <th>GarageFinish</th>\n",
              "      <th>GarageCars</th>\n",
              "      <th>GarageArea</th>\n",
              "      <th>GarageQual</th>\n",
              "      <th>GarageCond</th>\n",
              "      <th>PavedDrive</th>\n",
              "      <th>WoodDeckSF</th>\n",
              "      <th>OpenPorchSF</th>\n",
              "      <th>EnclosedPorch</th>\n",
              "      <th>3SsnPorch</th>\n",
              "      <th>ScreenPorch</th>\n",
              "      <th>PoolArea</th>\n",
              "      <th>PoolQC</th>\n",
              "      <th>Fence</th>\n",
              "      <th>MiscFeature</th>\n",
              "      <th>MiscVal</th>\n",
              "      <th>MoSold</th>\n",
              "      <th>YrSold</th>\n",
              "      <th>SaleType</th>\n",
              "      <th>SaleCondition</th>\n",
              "    </tr>\n",
              "  </thead>\n",
              "  <tbody>\n",
              "    <tr>\n",
              "      <th>0</th>\n",
              "      <td>1461</td>\n",
              "      <td>20</td>\n",
              "      <td>RH</td>\n",
              "      <td>80.0</td>\n",
              "      <td>11622</td>\n",
              "      <td>Pave</td>\n",
              "      <td>NaN</td>\n",
              "      <td>Reg</td>\n",
              "      <td>Lvl</td>\n",
              "      <td>AllPub</td>\n",
              "      <td>Inside</td>\n",
              "      <td>Gtl</td>\n",
              "      <td>NAmes</td>\n",
              "      <td>Feedr</td>\n",
              "      <td>Norm</td>\n",
              "      <td>1Fam</td>\n",
              "      <td>1Story</td>\n",
              "      <td>5</td>\n",
              "      <td>6</td>\n",
              "      <td>1961</td>\n",
              "      <td>1961</td>\n",
              "      <td>Gable</td>\n",
              "      <td>CompShg</td>\n",
              "      <td>VinylSd</td>\n",
              "      <td>VinylSd</td>\n",
              "      <td>None</td>\n",
              "      <td>0.0</td>\n",
              "      <td>TA</td>\n",
              "      <td>TA</td>\n",
              "      <td>CBlock</td>\n",
              "      <td>TA</td>\n",
              "      <td>TA</td>\n",
              "      <td>No</td>\n",
              "      <td>Rec</td>\n",
              "      <td>468.0</td>\n",
              "      <td>LwQ</td>\n",
              "      <td>144.0</td>\n",
              "      <td>270.0</td>\n",
              "      <td>882.0</td>\n",
              "      <td>GasA</td>\n",
              "      <td>TA</td>\n",
              "      <td>Y</td>\n",
              "      <td>SBrkr</td>\n",
              "      <td>896</td>\n",
              "      <td>0</td>\n",
              "      <td>0</td>\n",
              "      <td>896</td>\n",
              "      <td>0.0</td>\n",
              "      <td>0.0</td>\n",
              "      <td>1</td>\n",
              "      <td>0</td>\n",
              "      <td>2</td>\n",
              "      <td>1</td>\n",
              "      <td>TA</td>\n",
              "      <td>5</td>\n",
              "      <td>Typ</td>\n",
              "      <td>0</td>\n",
              "      <td>NaN</td>\n",
              "      <td>Attchd</td>\n",
              "      <td>1961.0</td>\n",
              "      <td>Unf</td>\n",
              "      <td>1.0</td>\n",
              "      <td>730.0</td>\n",
              "      <td>TA</td>\n",
              "      <td>TA</td>\n",
              "      <td>Y</td>\n",
              "      <td>140</td>\n",
              "      <td>0</td>\n",
              "      <td>0</td>\n",
              "      <td>0</td>\n",
              "      <td>120</td>\n",
              "      <td>0</td>\n",
              "      <td>NaN</td>\n",
              "      <td>MnPrv</td>\n",
              "      <td>NaN</td>\n",
              "      <td>0</td>\n",
              "      <td>6</td>\n",
              "      <td>2010</td>\n",
              "      <td>WD</td>\n",
              "      <td>Normal</td>\n",
              "    </tr>\n",
              "    <tr>\n",
              "      <th>1</th>\n",
              "      <td>1462</td>\n",
              "      <td>20</td>\n",
              "      <td>RL</td>\n",
              "      <td>81.0</td>\n",
              "      <td>14267</td>\n",
              "      <td>Pave</td>\n",
              "      <td>NaN</td>\n",
              "      <td>IR1</td>\n",
              "      <td>Lvl</td>\n",
              "      <td>AllPub</td>\n",
              "      <td>Corner</td>\n",
              "      <td>Gtl</td>\n",
              "      <td>NAmes</td>\n",
              "      <td>Norm</td>\n",
              "      <td>Norm</td>\n",
              "      <td>1Fam</td>\n",
              "      <td>1Story</td>\n",
              "      <td>6</td>\n",
              "      <td>6</td>\n",
              "      <td>1958</td>\n",
              "      <td>1958</td>\n",
              "      <td>Hip</td>\n",
              "      <td>CompShg</td>\n",
              "      <td>Wd Sdng</td>\n",
              "      <td>Wd Sdng</td>\n",
              "      <td>BrkFace</td>\n",
              "      <td>108.0</td>\n",
              "      <td>TA</td>\n",
              "      <td>TA</td>\n",
              "      <td>CBlock</td>\n",
              "      <td>TA</td>\n",
              "      <td>TA</td>\n",
              "      <td>No</td>\n",
              "      <td>ALQ</td>\n",
              "      <td>923.0</td>\n",
              "      <td>Unf</td>\n",
              "      <td>0.0</td>\n",
              "      <td>406.0</td>\n",
              "      <td>1329.0</td>\n",
              "      <td>GasA</td>\n",
              "      <td>TA</td>\n",
              "      <td>Y</td>\n",
              "      <td>SBrkr</td>\n",
              "      <td>1329</td>\n",
              "      <td>0</td>\n",
              "      <td>0</td>\n",
              "      <td>1329</td>\n",
              "      <td>0.0</td>\n",
              "      <td>0.0</td>\n",
              "      <td>1</td>\n",
              "      <td>1</td>\n",
              "      <td>3</td>\n",
              "      <td>1</td>\n",
              "      <td>Gd</td>\n",
              "      <td>6</td>\n",
              "      <td>Typ</td>\n",
              "      <td>0</td>\n",
              "      <td>NaN</td>\n",
              "      <td>Attchd</td>\n",
              "      <td>1958.0</td>\n",
              "      <td>Unf</td>\n",
              "      <td>1.0</td>\n",
              "      <td>312.0</td>\n",
              "      <td>TA</td>\n",
              "      <td>TA</td>\n",
              "      <td>Y</td>\n",
              "      <td>393</td>\n",
              "      <td>36</td>\n",
              "      <td>0</td>\n",
              "      <td>0</td>\n",
              "      <td>0</td>\n",
              "      <td>0</td>\n",
              "      <td>NaN</td>\n",
              "      <td>NaN</td>\n",
              "      <td>Gar2</td>\n",
              "      <td>12500</td>\n",
              "      <td>6</td>\n",
              "      <td>2010</td>\n",
              "      <td>WD</td>\n",
              "      <td>Normal</td>\n",
              "    </tr>\n",
              "    <tr>\n",
              "      <th>2</th>\n",
              "      <td>1463</td>\n",
              "      <td>60</td>\n",
              "      <td>RL</td>\n",
              "      <td>74.0</td>\n",
              "      <td>13830</td>\n",
              "      <td>Pave</td>\n",
              "      <td>NaN</td>\n",
              "      <td>IR1</td>\n",
              "      <td>Lvl</td>\n",
              "      <td>AllPub</td>\n",
              "      <td>Inside</td>\n",
              "      <td>Gtl</td>\n",
              "      <td>Gilbert</td>\n",
              "      <td>Norm</td>\n",
              "      <td>Norm</td>\n",
              "      <td>1Fam</td>\n",
              "      <td>2Story</td>\n",
              "      <td>5</td>\n",
              "      <td>5</td>\n",
              "      <td>1997</td>\n",
              "      <td>1998</td>\n",
              "      <td>Gable</td>\n",
              "      <td>CompShg</td>\n",
              "      <td>VinylSd</td>\n",
              "      <td>VinylSd</td>\n",
              "      <td>None</td>\n",
              "      <td>0.0</td>\n",
              "      <td>TA</td>\n",
              "      <td>TA</td>\n",
              "      <td>PConc</td>\n",
              "      <td>Gd</td>\n",
              "      <td>TA</td>\n",
              "      <td>No</td>\n",
              "      <td>GLQ</td>\n",
              "      <td>791.0</td>\n",
              "      <td>Unf</td>\n",
              "      <td>0.0</td>\n",
              "      <td>137.0</td>\n",
              "      <td>928.0</td>\n",
              "      <td>GasA</td>\n",
              "      <td>Gd</td>\n",
              "      <td>Y</td>\n",
              "      <td>SBrkr</td>\n",
              "      <td>928</td>\n",
              "      <td>701</td>\n",
              "      <td>0</td>\n",
              "      <td>1629</td>\n",
              "      <td>0.0</td>\n",
              "      <td>0.0</td>\n",
              "      <td>2</td>\n",
              "      <td>1</td>\n",
              "      <td>3</td>\n",
              "      <td>1</td>\n",
              "      <td>TA</td>\n",
              "      <td>6</td>\n",
              "      <td>Typ</td>\n",
              "      <td>1</td>\n",
              "      <td>TA</td>\n",
              "      <td>Attchd</td>\n",
              "      <td>1997.0</td>\n",
              "      <td>Fin</td>\n",
              "      <td>2.0</td>\n",
              "      <td>482.0</td>\n",
              "      <td>TA</td>\n",
              "      <td>TA</td>\n",
              "      <td>Y</td>\n",
              "      <td>212</td>\n",
              "      <td>34</td>\n",
              "      <td>0</td>\n",
              "      <td>0</td>\n",
              "      <td>0</td>\n",
              "      <td>0</td>\n",
              "      <td>NaN</td>\n",
              "      <td>MnPrv</td>\n",
              "      <td>NaN</td>\n",
              "      <td>0</td>\n",
              "      <td>3</td>\n",
              "      <td>2010</td>\n",
              "      <td>WD</td>\n",
              "      <td>Normal</td>\n",
              "    </tr>\n",
              "    <tr>\n",
              "      <th>3</th>\n",
              "      <td>1464</td>\n",
              "      <td>60</td>\n",
              "      <td>RL</td>\n",
              "      <td>78.0</td>\n",
              "      <td>9978</td>\n",
              "      <td>Pave</td>\n",
              "      <td>NaN</td>\n",
              "      <td>IR1</td>\n",
              "      <td>Lvl</td>\n",
              "      <td>AllPub</td>\n",
              "      <td>Inside</td>\n",
              "      <td>Gtl</td>\n",
              "      <td>Gilbert</td>\n",
              "      <td>Norm</td>\n",
              "      <td>Norm</td>\n",
              "      <td>1Fam</td>\n",
              "      <td>2Story</td>\n",
              "      <td>6</td>\n",
              "      <td>6</td>\n",
              "      <td>1998</td>\n",
              "      <td>1998</td>\n",
              "      <td>Gable</td>\n",
              "      <td>CompShg</td>\n",
              "      <td>VinylSd</td>\n",
              "      <td>VinylSd</td>\n",
              "      <td>BrkFace</td>\n",
              "      <td>20.0</td>\n",
              "      <td>TA</td>\n",
              "      <td>TA</td>\n",
              "      <td>PConc</td>\n",
              "      <td>TA</td>\n",
              "      <td>TA</td>\n",
              "      <td>No</td>\n",
              "      <td>GLQ</td>\n",
              "      <td>602.0</td>\n",
              "      <td>Unf</td>\n",
              "      <td>0.0</td>\n",
              "      <td>324.0</td>\n",
              "      <td>926.0</td>\n",
              "      <td>GasA</td>\n",
              "      <td>Ex</td>\n",
              "      <td>Y</td>\n",
              "      <td>SBrkr</td>\n",
              "      <td>926</td>\n",
              "      <td>678</td>\n",
              "      <td>0</td>\n",
              "      <td>1604</td>\n",
              "      <td>0.0</td>\n",
              "      <td>0.0</td>\n",
              "      <td>2</td>\n",
              "      <td>1</td>\n",
              "      <td>3</td>\n",
              "      <td>1</td>\n",
              "      <td>Gd</td>\n",
              "      <td>7</td>\n",
              "      <td>Typ</td>\n",
              "      <td>1</td>\n",
              "      <td>Gd</td>\n",
              "      <td>Attchd</td>\n",
              "      <td>1998.0</td>\n",
              "      <td>Fin</td>\n",
              "      <td>2.0</td>\n",
              "      <td>470.0</td>\n",
              "      <td>TA</td>\n",
              "      <td>TA</td>\n",
              "      <td>Y</td>\n",
              "      <td>360</td>\n",
              "      <td>36</td>\n",
              "      <td>0</td>\n",
              "      <td>0</td>\n",
              "      <td>0</td>\n",
              "      <td>0</td>\n",
              "      <td>NaN</td>\n",
              "      <td>NaN</td>\n",
              "      <td>NaN</td>\n",
              "      <td>0</td>\n",
              "      <td>6</td>\n",
              "      <td>2010</td>\n",
              "      <td>WD</td>\n",
              "      <td>Normal</td>\n",
              "    </tr>\n",
              "    <tr>\n",
              "      <th>4</th>\n",
              "      <td>1465</td>\n",
              "      <td>120</td>\n",
              "      <td>RL</td>\n",
              "      <td>43.0</td>\n",
              "      <td>5005</td>\n",
              "      <td>Pave</td>\n",
              "      <td>NaN</td>\n",
              "      <td>IR1</td>\n",
              "      <td>HLS</td>\n",
              "      <td>AllPub</td>\n",
              "      <td>Inside</td>\n",
              "      <td>Gtl</td>\n",
              "      <td>StoneBr</td>\n",
              "      <td>Norm</td>\n",
              "      <td>Norm</td>\n",
              "      <td>TwnhsE</td>\n",
              "      <td>1Story</td>\n",
              "      <td>8</td>\n",
              "      <td>5</td>\n",
              "      <td>1992</td>\n",
              "      <td>1992</td>\n",
              "      <td>Gable</td>\n",
              "      <td>CompShg</td>\n",
              "      <td>HdBoard</td>\n",
              "      <td>HdBoard</td>\n",
              "      <td>None</td>\n",
              "      <td>0.0</td>\n",
              "      <td>Gd</td>\n",
              "      <td>TA</td>\n",
              "      <td>PConc</td>\n",
              "      <td>Gd</td>\n",
              "      <td>TA</td>\n",
              "      <td>No</td>\n",
              "      <td>ALQ</td>\n",
              "      <td>263.0</td>\n",
              "      <td>Unf</td>\n",
              "      <td>0.0</td>\n",
              "      <td>1017.0</td>\n",
              "      <td>1280.0</td>\n",
              "      <td>GasA</td>\n",
              "      <td>Ex</td>\n",
              "      <td>Y</td>\n",
              "      <td>SBrkr</td>\n",
              "      <td>1280</td>\n",
              "      <td>0</td>\n",
              "      <td>0</td>\n",
              "      <td>1280</td>\n",
              "      <td>0.0</td>\n",
              "      <td>0.0</td>\n",
              "      <td>2</td>\n",
              "      <td>0</td>\n",
              "      <td>2</td>\n",
              "      <td>1</td>\n",
              "      <td>Gd</td>\n",
              "      <td>5</td>\n",
              "      <td>Typ</td>\n",
              "      <td>0</td>\n",
              "      <td>NaN</td>\n",
              "      <td>Attchd</td>\n",
              "      <td>1992.0</td>\n",
              "      <td>RFn</td>\n",
              "      <td>2.0</td>\n",
              "      <td>506.0</td>\n",
              "      <td>TA</td>\n",
              "      <td>TA</td>\n",
              "      <td>Y</td>\n",
              "      <td>0</td>\n",
              "      <td>82</td>\n",
              "      <td>0</td>\n",
              "      <td>0</td>\n",
              "      <td>144</td>\n",
              "      <td>0</td>\n",
              "      <td>NaN</td>\n",
              "      <td>NaN</td>\n",
              "      <td>NaN</td>\n",
              "      <td>0</td>\n",
              "      <td>1</td>\n",
              "      <td>2010</td>\n",
              "      <td>WD</td>\n",
              "      <td>Normal</td>\n",
              "    </tr>\n",
              "  </tbody>\n",
              "</table>\n",
              "</div>"
            ],
            "text/plain": [
              "     Id  MSSubClass MSZoning  ...  YrSold  SaleType SaleCondition\n",
              "0  1461          20       RH  ...    2010        WD        Normal\n",
              "1  1462          20       RL  ...    2010        WD        Normal\n",
              "2  1463          60       RL  ...    2010        WD        Normal\n",
              "3  1464          60       RL  ...    2010        WD        Normal\n",
              "4  1465         120       RL  ...    2010        WD        Normal\n",
              "\n",
              "[5 rows x 80 columns]"
            ]
          },
          "metadata": {
            "tags": []
          },
          "execution_count": 8
        }
      ]
    },
    {
      "cell_type": "code",
      "metadata": {
        "_cell_guid": "b24451a1-fb8c-4094-ad0b-0940469d07fc",
        "_execution_state": "idle",
        "_uuid": "687813c270cbfdedccc7a9e4ec9fbb78a99d54ed",
        "id": "XoC36OB-GdbC",
        "colab_type": "code",
        "outputId": "5e4a8435-bdfe-4767-cdd4-82414861e1d8",
        "colab": {
          "base_uri": "https://localhost:8080/",
          "height": 66
        }
      },
      "source": [
        "print(\"El tamaño de train antes de eliminar la columna Id es : {} \".format(train.shape))\n",
        "print(\"El tamaño de test antes de eliminar la columna Id es : {} \".format(test.shape))\n",
        "\n",
        "train_ID = train['Id']\n",
        "test_ID = test['Id']\n",
        "\n",
        "train.drop(\"Id\", axis = 1, inplace = True)\n",
        "test.drop(\"Id\", axis = 1, inplace = True)\n",
        "\n",
        "print(\"El tamaño de test data despues de eliminar la columna Id es: : {} \".format(test.shape))"
      ],
      "execution_count": 9,
      "outputs": [
        {
          "output_type": "stream",
          "text": [
            "El tamaño de train antes de eliminar la columna Id es : (1460, 81) \n",
            "El tamaño de test antes de eliminar la columna Id es : (1459, 80) \n",
            "El tamaño de test data despues de eliminar la columna Id es: : (1459, 79) \n"
          ],
          "name": "stdout"
        }
      ]
    },
    {
      "cell_type": "markdown",
      "metadata": {
        "_cell_guid": "7d5829c4-b2f1-4ef3-8b02-11f02eb7aabf",
        "_execution_state": "idle",
        "_uuid": "228cb602f1c7a47d3c5250514cab57f7e7bc75e5",
        "id": "b7zsBXZjGdbF",
        "colab_type": "text"
      },
      "source": [
        "# Procesamiento de Datos"
      ]
    },
    {
      "cell_type": "markdown",
      "metadata": {
        "_cell_guid": "2b19b08e-b8bf-44b0-b83d-ee3efd0b833e",
        "_execution_state": "idle",
        "_uuid": "70fc7612c38957f7418d03a409ff8bae21d522a9",
        "id": "zzRseWPmGdbI",
        "colab_type": "text"
      },
      "source": [
        "Los términos utilizados para este ejemplo se encuentran descritos en el siguiente enlace:\n",
        "http://ww2.amstat.org/publications/jse/v19n3/Decock/DataDocumentation.txt"
      ]
    },
    {
      "cell_type": "markdown",
      "metadata": {
        "_cell_guid": "993f8fc0-1f5a-4432-80bc-6024b7bbc855",
        "_execution_state": "idle",
        "_uuid": "21bab04b0e0a451c912695d9238bf8304fc009d4",
        "id": "pzxgqAcVGdbH",
        "colab_type": "text"
      },
      "source": [
        "##OUTLIERS"
      ]
    },
    {
      "cell_type": "code",
      "metadata": {
        "_cell_guid": "637bd0fd-7508-41d1-b240-ea0e8598dddf",
        "_execution_state": "idle",
        "_uuid": "8903aa1a4a700aa2160edb3baf806f3800ae7d9a",
        "id": "X1P4IuDZGdbJ",
        "colab_type": "code",
        "outputId": "e69a646c-cdb5-4bf1-9496-b2fc31752674",
        "colab": {
          "base_uri": "https://localhost:8080/",
          "height": 298
        }
      },
      "source": [
        "sns.scatterplot(x = train['GrLivArea'], y = train['SalePrice'])"
      ],
      "execution_count": 10,
      "outputs": [
        {
          "output_type": "execute_result",
          "data": {
            "text/plain": [
              "<matplotlib.axes._subplots.AxesSubplot at 0x7f4fe113d7f0>"
            ]
          },
          "metadata": {
            "tags": []
          },
          "execution_count": 10
        },
        {
          "output_type": "display_data",
          "data": {
            "image/png": "[encoded data removed]",
            "text/plain": [
              "<Figure size 432x288 with 1 Axes>"
            ]
          },
          "metadata": {
            "tags": []
          }
        }
      ]
    },
    {
      "cell_type": "markdown",
      "metadata": {
        "_cell_guid": "30304b82-5846-4142-bc31-b629158fb040",
        "_execution_state": "idle",
        "_uuid": "edf186dc5169e450392ee8f809cc3de5d10d7dbd",
        "id": "6DgmVYysGdbM",
        "colab_type": "text"
      },
      "source": [
        "Se puede apreciar en la esquina inferior derecha dos datos que indican un **AreaHabitable** muy grande, y sin embargo registran un bajo precio. Estos valores se consideran outliers. Por ello procederemos a eliminarlos."
      ]
    },
    {
      "cell_type": "code",
      "metadata": {
        "_cell_guid": "6c5780b2-d4a8-42d9-b902-c6a23eef7d99",
        "_execution_state": "idle",
        "_uuid": "583bb417102d7bebb4aaf14bcb1aebcae86443bb",
        "id": "w91rK6KcGdbN",
        "colab_type": "code",
        "outputId": "b937c076-c18e-4f3b-f01e-4906d04d2ed3",
        "colab": {
          "base_uri": "https://localhost:8080/",
          "height": 298
        }
      },
      "source": [
        "#Eliminamos los outliers acorde a las variables del gráfico\n",
        "train = train.drop(train[(train['GrLivArea']>4000) & (train['SalePrice']<300000)].index)\n",
        "\n",
        "#Verificamos el gráfico nuevamente para confirmar que los outliers hayan sido eliminados\n",
        "sns.scatterplot(x = train['GrLivArea'], y = train['SalePrice'])"
      ],
      "execution_count": 11,
      "outputs": [
        {
          "output_type": "execute_result",
          "data": {
            "text/plain": [
              "<matplotlib.axes._subplots.AxesSubplot at 0x7f4fde875080>"
            ]
          },
          "metadata": {
            "tags": []
          },
          "execution_count": 11
        },
        {
          "output_type": "display_data",
          "data": {
            "image/png": "[encoded data removed]",
            "text/plain": [
              "<Figure size 432x288 with 1 Axes>"
            ]
          },
          "metadata": {
            "tags": []
          }
        }
      ]
    },
    {
      "cell_type": "markdown",
      "metadata": {
        "_cell_guid": "e24be1ff-e186-4d0f-9ba1-64195c0eec4d",
        "_execution_state": "idle",
        "_uuid": "0f186c5806f14de1e9ea46ece78a4bed2a6830a7",
        "id": "bgQyRhVmGdbR",
        "colab_type": "text"
      },
      "source": [
        "Hay probabilidades de que otros valores atipicos existan en los datos de entrenamiento (si es que alli hubieran tambien outliers), sin embargo removerlos todos puede afectar negativamente nuestros modelos. Por ello vamos a permitir aquellos en los cuales los modelos son lo suficientemente robustos."
      ]
    },
    {
      "cell_type": "markdown",
      "metadata": {
        "_cell_guid": "f4dcb348-634e-4010-b0a1-27976a1d8353",
        "_execution_state": "idle",
        "_uuid": "886ad7c816f4c1fd9afda53b10990baf987e86d8",
        "id": "ORK_jNf6GdbT",
        "colab_type": "text"
      },
      "source": [
        "##Variable Objetivo"
      ]
    },
    {
      "cell_type": "markdown",
      "metadata": {
        "_cell_guid": "658f5b56-5830-486c-81a0-8514fb95e274",
        "_execution_state": "idle",
        "_uuid": "4b96a6a35983d1c765c11c929bcd32effd105b43",
        "id": "L8EslLgqGdbU",
        "colab_type": "text"
      },
      "source": [
        "**Precio** es la variable que vamos a predecir. Asi que vamos a hacer un poco de analisis en esta variable primero."
      ]
    },
    {
      "cell_type": "code",
      "metadata": {
        "_cell_guid": "a17ad845-6fca-4d47-8e44-7c4c44f0427d",
        "_execution_state": "idle",
        "_uuid": "be3b0157031685ed3dbc31a657ba712312691830",
        "id": "GeVtEKrQGdbV",
        "colab_type": "code",
        "outputId": "fcc43e81-f04e-4226-fd1d-d8b591b247fb",
        "colab": {
          "base_uri": "https://localhost:8080/",
          "height": 360
        }
      },
      "source": [
        "sns.distplot(train['SalePrice'] , fit=norm)\n",
        "\n",
        "#Obtenemos los parámetros una vez aplicada la distribución normal a la variable Precio\n",
        "#Get the fitted parameters used by the function\n",
        "(mu, sigma) = norm.fit(train['SalePrice'])\n",
        "print( '\\n mu = {:.2f} and sigma = {:.2f}\\n'.format(mu, sigma))\n",
        "\n",
        "#Dibujamos ambas distribuciones la actual distribución Precio y la aproximación normal para notar la diferencia\n",
        "plt.legend(['Normal dist. ($\\mu=$ {:.2f} and $\\sigma=$ {:.2f} )'.format(mu, sigma)],loc='best')\n",
        "plt.ylabel('Frequency')\n",
        "plt.title('SalePrice distribution')"
      ],
      "execution_count": 12,
      "outputs": [
        {
          "output_type": "stream",
          "text": [
            "\n",
            " mu = 180932.92 and sigma = 79467.79\n",
            "\n"
          ],
          "name": "stdout"
        },
        {
          "output_type": "execute_result",
          "data": {
            "text/plain": [
              "Text(0.5, 1.0, 'SalePrice distribution')"
            ]
          },
          "metadata": {
            "tags": []
          },
          "execution_count": 12
        },
        {
          "output_type": "display_data",
          "data": {
            "image/png": "[encoded data removed]",
            "text/plain": [
              "<Figure size 432x288 with 1 Axes>"
            ]
          },
          "metadata": {
            "tags": []
          }
        }
      ]
    },
    {
      "cell_type": "markdown",
      "metadata": {
        "_cell_guid": "313a535c-86c4-4db5-96de-6f65bc4adc2f",
        "_execution_state": "idle",
        "_uuid": "1da2d9831ae6c94b3f6304185f02896a9ee40aa5",
        "id": "hP2olfzeGdbY",
        "colab_type": "text"
      },
      "source": [
        "Se puede apreciar que los datos de la variable objetivo están sesgados (en este caso, inclinado a la izquierda). Sin embargo, los modelos lineales que veremos en la presente clase optimizan su predición con datos distribuidos normalmente. Por ello vamos a transformar los datos de esta variable para aproximarlos a una distribución normal."
      ]
    },
    {
      "cell_type": "markdown",
      "metadata": {
        "_cell_guid": "8df72eef-77de-4a71-aa6a-4b91784a7232",
        "_execution_state": "idle",
        "_uuid": "421775277fdab4e5a05f74aa4ea92e712a743928",
        "id": "sJfYY-XoGdbZ",
        "colab_type": "text"
      },
      "source": [
        " **Log-transformación de la variable objetivo**"
      ]
    },
    {
      "cell_type": "code",
      "metadata": {
        "_cell_guid": "21b3a0ad-bd68-49aa-a3d7-40a30b3c59dc",
        "_execution_state": "idle",
        "_uuid": "719cf6a9dca56cc529e97af21816d291fa8bd8c0",
        "id": "o8GKaoGDGdba",
        "colab_type": "code",
        "outputId": "a88bca2d-35ed-42c3-b546-ec5cfb49140a",
        "colab": {
          "base_uri": "https://localhost:8080/",
          "height": 360
        }
      },
      "source": [
        "#Utilizamos la función log1p de la librería numpy que aplica la función log(1+x) a todos los elementos de la variable Precio\n",
        "train[\"SalePrice\"] = np.log1p(train[\"SalePrice\"])\n",
        "\n",
        "#Dibujamos la distribución actualizada de la variable Precio\n",
        "sns.distplot(train['SalePrice'] , fit=norm);\n",
        "\n",
        "#Obtenemos los parámetros una vez aplicada la distribución normal a la variable Precio\n",
        "(mu, sigma) = norm.fit(train['SalePrice'])\n",
        "print( '\\n mu = {:.2f} and sigma = {:.2f}\\n'.format(mu, sigma))\n",
        "\n",
        "##Dibujamos ambas distribuciones la actual distribución Precio y la aproximación normal para verificar que se haya actualizado\n",
        "plt.legend(['Normal dist. ($\\mu=$ {:.2f} and $\\sigma=$ {:.2f} )'.format(mu, sigma)],\n",
        "            loc='best')\n",
        "plt.ylabel('Frequency')\n",
        "plt.title('SalePrice distribution')"
      ],
      "execution_count": 13,
      "outputs": [
        {
          "output_type": "stream",
          "text": [
            "\n",
            " mu = 12.02 and sigma = 0.40\n",
            "\n"
          ],
          "name": "stdout"
        },
        {
          "output_type": "execute_result",
          "data": {
            "text/plain": [
              "Text(0.5, 1.0, 'SalePrice distribution')"
            ]
          },
          "metadata": {
            "tags": []
          },
          "execution_count": 13
        },
        {
          "output_type": "display_data",
          "data": {
            "image/png": "[encoded data removed]",
            "text/plain": [
              "<Figure size 432x288 with 1 Axes>"
            ]
          },
          "metadata": {
            "tags": []
          }
        }
      ]
    },
    {
      "cell_type": "markdown",
      "metadata": {
        "_cell_guid": "802df76d-0e0b-4868-ba16-91335568d2d7",
        "_execution_state": "idle",
        "_uuid": "827a86d65c6d176f4af55224b91b44a47966652d",
        "id": "1VyzKQNnGdbg",
        "colab_type": "text"
      },
      "source": [
        "# Ingeniería de Características ( I )"
      ]
    },
    {
      "cell_type": "code",
      "metadata": {
        "_cell_guid": "1bd3e9b9-2f42-4251-aadd-5ced84eb1a27",
        "_execution_state": "idle",
        "_uuid": "efc576211e4eed962f04cd94d901c667e6912528",
        "id": "RyGn197iGdbj",
        "colab_type": "code",
        "outputId": "753a03d0-a333-41bf-84e5-6f1a74917710",
        "colab": {
          "base_uri": "https://localhost:8080/",
          "height": 163
        }
      },
      "source": [
        "ntrain = train.shape[0]\n",
        "ntest = test.shape[0]\n",
        "y_train = train.SalePrice.values\n",
        "all_data = pd.concat((train, test)).reset_index(drop=True)\n",
        "all_data.drop(['SalePrice'], axis=1, inplace=True)\n",
        "print(\"all_data size is : {}\".format(all_data.shape))"
      ],
      "execution_count": 14,
      "outputs": [
        {
          "output_type": "stream",
          "text": [
            "all_data size is : (2917, 79)\n"
          ],
          "name": "stdout"
        },
        {
          "output_type": "stream",
          "text": [
            "/usr/local/lib/python3.6/dist-packages/ipykernel_launcher.py:4: FutureWarning: Sorting because non-concatenation axis is not aligned. A future version\n",
            "of pandas will change to not sort by default.\n",
            "\n",
            "To accept the future behavior, pass 'sort=False'.\n",
            "\n",
            "To retain the current behavior and silence the warning, pass 'sort=True'.\n",
            "\n",
            "  after removing the cwd from sys.path.\n"
          ],
          "name": "stderr"
        }
      ]
    },
    {
      "cell_type": "markdown",
      "metadata": {
        "_cell_guid": "9ce95008-a3b9-43fa-bc4e-649ca0f43768",
        "_execution_state": "idle",
        "_uuid": "abe25f3032a0bed179d58d5911cb42d97b35841b",
        "id": "fOPq9vxBGdbn",
        "colab_type": "text"
      },
      "source": [
        "###Hallando nulos"
      ]
    },
    {
      "cell_type": "markdown",
      "metadata": {
        "id": "gIHa5UJtPkqi",
        "colab_type": "text"
      },
      "source": [
        "Procedemos a utilizar la función **ms.bar** y **ms.matrix** para visualizar de forma rápida los nulos del dataset."
      ]
    },
    {
      "cell_type": "code",
      "metadata": {
        "id": "STa4MNEpGdbs",
        "colab_type": "code",
        "outputId": "916c1b45-8caa-431f-8555-e7fbec5d33ad",
        "colab": {
          "base_uri": "https://localhost:8080/",
          "height": 608
        }
      },
      "source": [
        "ms.matrix(all_data,sparkline=False)"
      ],
      "execution_count": 15,
      "outputs": [
        {
          "output_type": "execute_result",
          "data": {
            "text/plain": [
              "<matplotlib.axes._subplots.AxesSubplot at 0x7f4fde6f64e0>"
            ]
          },
          "metadata": {
            "tags": []
          },
          "execution_count": 15
        },
        {
          "output_type": "display_data",
          "data": {
            "image/png": "[encoded data removed]",
            "text/plain": [
              "<Figure size 1800x720 with 1 Axes>"
            ]
          },
          "metadata": {
            "tags": []
          }
        }
      ]
    },
    {
      "cell_type": "code",
      "metadata": {
        "_cell_guid": "501b465f-8c80-4b93-81d0-a5d41e08d235",
        "_execution_state": "idle",
        "_uuid": "f97d25548ec8f6c02e2d1ee5a6df6c3d107fdf53",
        "id": "76_8yt03Gdbx",
        "colab_type": "code",
        "outputId": "72a58a65-e674-4c75-b03b-88da67fcc2fe",
        "colab": {
          "base_uri": "https://localhost:8080/",
          "height": 622
        }
      },
      "source": [
        "all_data_na = (all_data.isnull().sum() / len(all_data)) * 100\n",
        "all_data_na = all_data_na.drop(all_data_na[all_data_na == 0].index).sort_values(ascending=False)\n",
        "missing_data = pd.DataFrame({'Missing Ratio' :all_data_na})\n",
        "missing_data.head(20)"
      ],
      "execution_count": 16,
      "outputs": [
        {
          "output_type": "execute_result",
          "data": {
            "text/html": [
              "<div>\n",
              "<style scoped>\n",
              "    .dataframe tbody tr th:only-of-type {\n",
              "        vertical-align: middle;\n",
              "    }\n",
              "\n",
              "    .dataframe tbody tr th {\n",
              "        vertical-align: top;\n",
              "    }\n",
              "\n",
              "    .dataframe thead th {\n",
              "        text-align: right;\n",
              "    }\n",
              "</style>\n",
              "<table border=\"1\" class=\"dataframe\">\n",
              "  <thead>\n",
              "    <tr style=\"text-align: right;\">\n",
              "      <th></th>\n",
              "      <th>Missing Ratio</th>\n",
              "    </tr>\n",
              "  </thead>\n",
              "  <tbody>\n",
              "    <tr>\n",
              "      <th>PoolQC</th>\n",
              "      <td>99.691464</td>\n",
              "    </tr>\n",
              "    <tr>\n",
              "      <th>MiscFeature</th>\n",
              "      <td>96.400411</td>\n",
              "    </tr>\n",
              "    <tr>\n",
              "      <th>Alley</th>\n",
              "      <td>93.212204</td>\n",
              "    </tr>\n",
              "    <tr>\n",
              "      <th>Fence</th>\n",
              "      <td>80.425094</td>\n",
              "    </tr>\n",
              "    <tr>\n",
              "      <th>FireplaceQu</th>\n",
              "      <td>48.680151</td>\n",
              "    </tr>\n",
              "    <tr>\n",
              "      <th>LotFrontage</th>\n",
              "      <td>16.660953</td>\n",
              "    </tr>\n",
              "    <tr>\n",
              "      <th>GarageQual</th>\n",
              "      <td>5.450806</td>\n",
              "    </tr>\n",
              "    <tr>\n",
              "      <th>GarageCond</th>\n",
              "      <td>5.450806</td>\n",
              "    </tr>\n",
              "    <tr>\n",
              "      <th>GarageFinish</th>\n",
              "      <td>5.450806</td>\n",
              "    </tr>\n",
              "    <tr>\n",
              "      <th>GarageYrBlt</th>\n",
              "      <td>5.450806</td>\n",
              "    </tr>\n",
              "    <tr>\n",
              "      <th>GarageType</th>\n",
              "      <td>5.382242</td>\n",
              "    </tr>\n",
              "    <tr>\n",
              "      <th>BsmtExposure</th>\n",
              "      <td>2.811107</td>\n",
              "    </tr>\n",
              "    <tr>\n",
              "      <th>BsmtCond</th>\n",
              "      <td>2.811107</td>\n",
              "    </tr>\n",
              "    <tr>\n",
              "      <th>BsmtQual</th>\n",
              "      <td>2.776826</td>\n",
              "    </tr>\n",
              "    <tr>\n",
              "      <th>BsmtFinType2</th>\n",
              "      <td>2.742544</td>\n",
              "    </tr>\n",
              "    <tr>\n",
              "      <th>BsmtFinType1</th>\n",
              "      <td>2.708262</td>\n",
              "    </tr>\n",
              "    <tr>\n",
              "      <th>MasVnrType</th>\n",
              "      <td>0.822763</td>\n",
              "    </tr>\n",
              "    <tr>\n",
              "      <th>MasVnrArea</th>\n",
              "      <td>0.788481</td>\n",
              "    </tr>\n",
              "    <tr>\n",
              "      <th>MSZoning</th>\n",
              "      <td>0.137127</td>\n",
              "    </tr>\n",
              "    <tr>\n",
              "      <th>BsmtFullBath</th>\n",
              "      <td>0.068564</td>\n",
              "    </tr>\n",
              "  </tbody>\n",
              "</table>\n",
              "</div>"
            ],
            "text/plain": [
              "              Missing Ratio\n",
              "PoolQC            99.691464\n",
              "MiscFeature       96.400411\n",
              "Alley             93.212204\n",
              "Fence             80.425094\n",
              "FireplaceQu       48.680151\n",
              "LotFrontage       16.660953\n",
              "GarageQual         5.450806\n",
              "GarageCond         5.450806\n",
              "GarageFinish       5.450806\n",
              "GarageYrBlt        5.450806\n",
              "GarageType         5.382242\n",
              "BsmtExposure       2.811107\n",
              "BsmtCond           2.811107\n",
              "BsmtQual           2.776826\n",
              "BsmtFinType2       2.742544\n",
              "BsmtFinType1       2.708262\n",
              "MasVnrType         0.822763\n",
              "MasVnrArea         0.788481\n",
              "MSZoning           0.137127\n",
              "BsmtFullBath       0.068564"
            ]
          },
          "metadata": {
            "tags": []
          },
          "execution_count": 16
        }
      ]
    },
    {
      "cell_type": "code",
      "metadata": {
        "id": "nV3YPFT-cG9O",
        "colab_type": "code",
        "outputId": "9c82b58a-1b33-4a73-ea1b-98900d82aed5",
        "colab": {
          "base_uri": "https://localhost:8080/",
          "height": 180
        }
      },
      "source": [
        "all_data[all_data['PoolQC'].notnull()]['PoolQC']"
      ],
      "execution_count": 17,
      "outputs": [
        {
          "output_type": "execute_result",
          "data": {
            "text/plain": [
              "197     Ex\n",
              "809     Fa\n",
              "1169    Gd\n",
              "1181    Ex\n",
              "1384    Fa\n",
              "1421    Gd\n",
              "1972    Ex\n",
              "2571    Ex\n",
              "2708    Gd\n",
              "Name: PoolQC, dtype: object"
            ]
          },
          "metadata": {
            "tags": []
          },
          "execution_count": 17
        }
      ]
    },
    {
      "cell_type": "code",
      "metadata": {
        "_cell_guid": "1c80610d-8f19-43c8-bd54-7d786b0dca49",
        "_execution_state": "idle",
        "_uuid": "2eb6e1361884db6a4f65afc3b158fcbe85c2392e",
        "id": "GCxXSsh3Gdb3",
        "colab_type": "code",
        "outputId": "08c1ae6f-cb58-4254-cb54-4719fcf33d3b",
        "colab": {
          "base_uri": "https://localhost:8080/",
          "height": 815
        }
      },
      "source": [
        "f, ax = plt.subplots(figsize=(15, 12))\n",
        "plt.xticks(rotation='90')\n",
        "sns.barplot(x=all_data_na.index, y=all_data_na)\n",
        "plt.xlabel('Features', fontsize=15)\n",
        "plt.ylabel('Percent of missing values', fontsize=15)\n",
        "plt.title('Percent missing data by feature', fontsize=15)"
      ],
      "execution_count": 18,
      "outputs": [
        {
          "output_type": "execute_result",
          "data": {
            "text/plain": [
              "Text(0.5, 1.0, 'Percent missing data by feature')"
            ]
          },
          "metadata": {
            "tags": []
          },
          "execution_count": 18
        },
        {
          "output_type": "display_data",
          "data": {
            "image/png": "[encoded data removed]",
            "text/plain": [
              "<Figure size 1080x864 with 1 Axes>"
            ]
          },
          "metadata": {
            "tags": []
          }
        }
      ]
    },
    {
      "cell_type": "markdown",
      "metadata": {
        "_cell_guid": "5d88502a-2484-45d7-a750-0d32075133dd",
        "_execution_state": "idle",
        "_uuid": "dbf28eddefa2c0825781a31cde823ac5ece5a1ee",
        "id": "hiyCxNY9Gdb9",
        "colab_type": "text"
      },
      "source": [
        "**Correlación de los Datos**\n"
      ]
    },
    {
      "cell_type": "code",
      "metadata": {
        "_cell_guid": "3fc115c7-33bb-456d-b3e5-4dd985bfbc9f",
        "_execution_state": "idle",
        "_uuid": "0f6b9912c752212f3f4bdca0b60f5fd01c12d2a0",
        "id": "W6jWQsuKGdcB",
        "colab_type": "code",
        "outputId": "3d7e4451-1dc2-40b5-da24-75685a9e9412",
        "colab": {
          "base_uri": "https://localhost:8080/",
          "height": 787
        }
      },
      "source": [
        "#Mapa de correlación para ver cómo las variables predictoras están correlacionadas con Precio\n",
        "corrmat = train.corr()\n",
        "plt.subplots(figsize=(15,12))\n",
        "sns.heatmap(corrmat, vmax=0.9, square=True)"
      ],
      "execution_count": 19,
      "outputs": [
        {
          "output_type": "execute_result",
          "data": {
            "text/plain": [
              "<matplotlib.axes._subplots.AxesSubplot at 0x7f4fde4c7048>"
            ]
          },
          "metadata": {
            "tags": []
          },
          "execution_count": 19
        },
        {
          "output_type": "display_data",
          "data": {
            "image/png": "[encoded data removed]",
            "text/plain": [
              "<Figure size 1080x864 with 2 Axes>"
            ]
          },
          "metadata": {
            "tags": []
          }
        }
      ]
    },
    {
      "cell_type": "markdown",
      "metadata": {
        "_cell_guid": "9ce95008-a3b9-43fa-bc4e-649ca0f43768",
        "_execution_state": "idle",
        "_uuid": "abe25f3032a0bed179d58d5911cb42d97b35841b",
        "colab_type": "text",
        "id": "pPWDpabuUgkD"
      },
      "source": [
        "###Completando valores nulos"
      ]
    },
    {
      "cell_type": "markdown",
      "metadata": {
        "_cell_guid": "e717ffdc-b536-4f6c-8008-e520043a5d3d",
        "_execution_state": "idle",
        "_uuid": "24d64c66f2a2329437743756194d21893ee6dd1f",
        "id": "ZCSuhAeVGdcN",
        "colab_type": "text"
      },
      "source": [
        "Vamos a completar secuencialmente los nulos para todas las características que cuenten con valores perdidos.\n",
        "\n",
        "We impute them  by proceeding sequentially  through features with missing values "
      ]
    },
    {
      "cell_type": "markdown",
      "metadata": {
        "_cell_guid": "6f7d94ef-5ffb-4e1b-b1a2-a917cce3f357",
        "_execution_state": "idle",
        "_uuid": "d6d054aff0098e4e602ef618e0a4d3706d71dd66",
        "id": "Qof7LGtYGdcP",
        "colab_type": "text"
      },
      "source": [
        "- **Piscina** : None hace referencia a que la casa no cuente con piscina."
      ]
    },
    {
      "cell_type": "code",
      "metadata": {
        "_cell_guid": "ca8a04eb-f42b-4c26-a690-bb98c95c6118",
        "_execution_state": "idle",
        "_uuid": "1d94b062f7683d711d479e48530009040185fd4c",
        "id": "IdVWT_5QGdcQ",
        "colab_type": "code",
        "colab": {}
      },
      "source": [
        "all_data[\"PoolQC\"] = all_data[\"PoolQC\"].fillna(\"None\")"
      ],
      "execution_count": 0,
      "outputs": []
    },
    {
      "cell_type": "markdown",
      "metadata": {
        "_cell_guid": "ea3aecb9-b2e8-4cdc-853d-999f8e2f789c",
        "_execution_state": "idle",
        "_uuid": "0516efe507d7176591f6af3d503312db5038949a",
        "id": "pxxH0ALZGdcV",
        "colab_type": "text"
      },
      "source": [
        "- **Miscelaneo** : None hace referencia a que la casa no cuenta con características especiales que califiquen como Misceláneo\n"
      ]
    },
    {
      "cell_type": "code",
      "metadata": {
        "_cell_guid": "689863b8-4e4e-45d7-9972-8894e8defbe2",
        "_execution_state": "idle",
        "_uuid": "c311993a26d66d66ce82584a3e00d7ed56a3ea5a",
        "id": "GzGZoBGZGdcW",
        "colab_type": "code",
        "colab": {}
      },
      "source": [
        "all_data[\"MiscFeature\"] = all_data[\"MiscFeature\"].fillna(\"None\")"
      ],
      "execution_count": 0,
      "outputs": []
    },
    {
      "cell_type": "markdown",
      "metadata": {
        "_cell_guid": "d467b9e0-0793-41e5-aaa1-d1686946ba9f",
        "_execution_state": "idle",
        "_uuid": "44cfbd9eecce5e4f2bc91a72ed095270e6010f57",
        "id": "Zj3JCHG0GdcZ",
        "colab_type": "text"
      },
      "source": [
        "- **Callejon** : None hace referencia a que la casa no cuenta con acceso a callejón."
      ]
    },
    {
      "cell_type": "code",
      "metadata": {
        "_cell_guid": "0f822e30-09f3-45f8-b09e-0ffed4ff985c",
        "_execution_state": "idle",
        "_uuid": "35709caf5cb2b0220cd9043f76462a116de15059",
        "id": "Y2aADxlWGdcb",
        "colab_type": "code",
        "colab": {}
      },
      "source": [
        "all_data[\"Alley\"] = all_data[\"Alley\"].fillna(\"None\")"
      ],
      "execution_count": 0,
      "outputs": []
    },
    {
      "cell_type": "markdown",
      "metadata": {
        "_cell_guid": "0bab3349-eddb-4977-acd5-8dad4553ff7f",
        "_execution_state": "idle",
        "_uuid": "3265fc176140dbf1b641e18f2d57b91554c85771",
        "id": "0oXwp-_kGdcf",
        "colab_type": "text"
      },
      "source": [
        "- **Cerca** : None hace referencia a que la casa no cuenta con cerca"
      ]
    },
    {
      "cell_type": "code",
      "metadata": {
        "_cell_guid": "c0d6e4f4-df14-467f-bab2-86bfd0493a35",
        "_execution_state": "idle",
        "_uuid": "6d9d6998298a7fea5677f0916bcc9f33dc99e231",
        "id": "Rgva-6LdGdcg",
        "colab_type": "code",
        "colab": {}
      },
      "source": [
        "all_data[\"Fence\"] = all_data[\"Fence\"].fillna(\"None\")"
      ],
      "execution_count": 0,
      "outputs": []
    },
    {
      "cell_type": "markdown",
      "metadata": {
        "_cell_guid": "49747765-81f1-4b23-ad63-534c7fe48b7a",
        "_execution_state": "idle",
        "_uuid": "4869889d4b2b118bc6dcef239cbc27546a7b445e",
        "id": "9d05yOqoGdcl",
        "colab_type": "text"
      },
      "source": [
        "- **ChimeneaCalidad** : None hace referencia a que la casa no cuenta con chimenea"
      ]
    },
    {
      "cell_type": "code",
      "metadata": {
        "_cell_guid": "22b88c5b-6419-424f-9805-2c2b11e85dca",
        "_execution_state": "idle",
        "_uuid": "fb8cdb59e4ecba1f7ec78eb3b34c7209c34b1c86",
        "id": "fsJQWu_tGdcm",
        "colab_type": "code",
        "colab": {}
      },
      "source": [
        "all_data[\"FireplaceQu\"] = all_data[\"FireplaceQu\"].fillna(\"None\")"
      ],
      "execution_count": 0,
      "outputs": []
    },
    {
      "cell_type": "markdown",
      "metadata": {
        "_cell_guid": "357994d1-974a-49ee-98e4-a19bc524fcb6",
        "_execution_state": "idle",
        "_uuid": "2b00af603b7dbc9114e62c421b2b886154d31959",
        "id": "1ma973LbGdcp",
        "colab_type": "text"
      },
      "source": [
        "- **Fachada** : Los valores perdidos de la **Fachada** los completaremos con la mediana obtenida al agrupar las casas por vecindario"
      ]
    },
    {
      "cell_type": "code",
      "metadata": {
        "_cell_guid": "b8cd4872-67c6-4c82-a1a3-807d08efb658",
        "_execution_state": "idle",
        "_uuid": "56c268a7217e85301d2847ceeca410d62e781b89",
        "id": "BPX4A1-EGdcp",
        "colab_type": "code",
        "colab": {}
      },
      "source": [
        "all_data[\"LotFrontage\"] = all_data.groupby(\"Neighborhood\")[\"LotFrontage\"].transform(lambda x: x.fillna(x.median()))"
      ],
      "execution_count": 0,
      "outputs": []
    },
    {
      "cell_type": "markdown",
      "metadata": {
        "_cell_guid": "357994d1-974a-49ee-98e4-a19bc524fcb6",
        "_execution_state": "idle",
        "_uuid": "2b00af603b7dbc9114e62c421b2b886154d31959",
        "colab_type": "text",
        "id": "GS1Te8ZNSnzh"
      },
      "source": [
        "- **GarajeTipo,GarajeExteriores,GarajeCalidad,GarajeCondición** : Los valores perdidos serán reemplazados por None para registrar que no cuentan con Garaje ni ninguna de sus características"
      ]
    },
    {
      "cell_type": "code",
      "metadata": {
        "_cell_guid": "f264979e-f5e2-4aae-b313-7468570c0294",
        "_execution_state": "idle",
        "_uuid": "d556da5418394ed50d3c14bd02668714cee0fb4a",
        "id": "EQ_VD_crGdcu",
        "colab_type": "code",
        "colab": {}
      },
      "source": [
        "for col in ('GarageType', 'GarageFinish', 'GarageQual', 'GarageCond'):\n",
        "    all_data[col] = all_data[col].fillna('None')"
      ],
      "execution_count": 0,
      "outputs": []
    },
    {
      "cell_type": "markdown",
      "metadata": {
        "_cell_guid": "92173e82-fd12-4fa0-b7dd-f66fb7b0be3b",
        "_execution_state": "idle",
        "_uuid": "b38ea3ec1c4b8fa4b31e8f86f378798319c05a71",
        "id": "g9HBii5TGdc0",
        "colab_type": "text"
      },
      "source": [
        "- **GarajeAñosConstruido, GarajeArea y GarajeCarros** : Los valores perdidos los reemplazamos por cero (0) debido a que la casa no registró garaje.\n"
      ]
    },
    {
      "cell_type": "code",
      "metadata": {
        "_cell_guid": "ada7acfa-8bc3-4d52-9f42-28a78cefc950",
        "_execution_state": "idle",
        "_uuid": "2726cce29df2a2621c54c4c8a06eb570a7191552",
        "id": "DKDzf39FGdc3",
        "colab_type": "code",
        "colab": {}
      },
      "source": [
        "for col in ('GarageYrBlt', 'GarageArea', 'GarageCars'):\n",
        "    all_data[col] = all_data[col].fillna(0)"
      ],
      "execution_count": 0,
      "outputs": []
    },
    {
      "cell_type": "markdown",
      "metadata": {
        "_cell_guid": "b9f955c5-4e03-4835-8df7-1284120453ff",
        "_execution_state": "idle",
        "_uuid": "1729c36d95461d03679eb95e18eaac3d37aeb076",
        "id": "M9O0I3aeGdc6",
        "colab_type": "text"
      },
      "source": [
        "- **SotanoAreaFinalizadaTipo1, SotanoAreaFinalizadaTipo2,SotanoAreaNoFinalizada, TotalAreaSotano, SotanoBañosCompletos y SotanosBañosSemicimpletos** :  Los valores perdidos los reemplazamos por cero (0) debido a que la casa no registró sótanos"
      ]
    },
    {
      "cell_type": "code",
      "metadata": {
        "_cell_guid": "dd9e7ef7-3cee-437a-9a33-20987e238425",
        "_execution_state": "idle",
        "_uuid": "3008a6bd07ed883ff92a83ebe390940a24010fcb",
        "id": "XxiKWcanGdc7",
        "colab_type": "code",
        "colab": {}
      },
      "source": [
        "for col in ('BsmtFinSF1', 'BsmtFinSF2', 'BsmtUnfSF','TotalBsmtSF', 'BsmtFullBath', 'BsmtHalfBath'):\n",
        "    all_data[col] = all_data[col].fillna(0)"
      ],
      "execution_count": 0,
      "outputs": []
    },
    {
      "cell_type": "markdown",
      "metadata": {
        "_cell_guid": "441b397e-c527-4bd5-8d3c-df6aeba72192",
        "_execution_state": "idle",
        "_uuid": "d4ed0fcea9f8bb309118ba2fb703431e386c6cbd",
        "id": "8pri-QPeGdc-",
        "colab_type": "text"
      },
      "source": [
        "- **SotanoCalidad, SotanoCondicion, SotanoExteriores, SotanoFinalizadoTipo1 and SotanoFinalizadoTipo2** : Los valores perdidos serán reemplazados por None para registrar que no cuentan con Sótano ni ninguna de sus características\n"
      ]
    },
    {
      "cell_type": "code",
      "metadata": {
        "_cell_guid": "6d7aa4f6-41b9-4f27-acb0-8af6aca2c8ff",
        "_execution_state": "idle",
        "_uuid": "ee281d3c691a50795e93bb797603c697d320b286",
        "id": "q7jwZrn5Gdc-",
        "colab_type": "code",
        "colab": {}
      },
      "source": [
        "for col in ('BsmtQual', 'BsmtCond', 'BsmtExposure', 'BsmtFinType1', 'BsmtFinType2'):\n",
        "    all_data[col] = all_data[col].fillna('None')"
      ],
      "execution_count": 0,
      "outputs": []
    },
    {
      "cell_type": "markdown",
      "metadata": {
        "_cell_guid": "e7f2515f-8438-4075-9d22-0b37c1a2ef01",
        "_execution_state": "idle",
        "_uuid": "556165bc959cd6ff2354cb774341ac947d052f6a",
        "id": "R0aOb4elGddB",
        "colab_type": "text"
      },
      "source": [
        "- **ChapaAlbañileríaArea y ChapaAlbañileríaTipo** : Los valores perdidos serán reemplazados por cero (0) y None respectivamente para registrar que la casa no cuenta con Chapa de Albañilería\n"
      ]
    },
    {
      "cell_type": "code",
      "metadata": {
        "_cell_guid": "63a3a030-482f-4292-a887-16880f7a2882",
        "_execution_state": "idle",
        "_uuid": "800ff604bb70023baf1d403b53b674b765d9047c",
        "id": "sBaO-Lc4GddD",
        "colab_type": "code",
        "colab": {}
      },
      "source": [
        "all_data[\"MasVnrType\"] = all_data[\"MasVnrType\"].fillna(\"None\")\n",
        "all_data[\"MasVnrArea\"] = all_data[\"MasVnrArea\"].fillna(0)"
      ],
      "execution_count": 0,
      "outputs": []
    },
    {
      "cell_type": "markdown",
      "metadata": {
        "_cell_guid": "f2f7f337-de24-44ec-93a6-09428ec9a252",
        "_execution_state": "idle",
        "_uuid": "ded1f7ea0443654bd033eeed1361056f820a925b",
        "id": "NG8RpYlZGddH",
        "colab_type": "text"
      },
      "source": [
        "- **ClaseZona** :  Los valores perdidos serán reemplazados por la moda, es decir la característica más frecuente de la ClaseZona ('RL')"
      ]
    },
    {
      "cell_type": "code",
      "metadata": {
        "_cell_guid": "0e4f28b5-784c-4369-92f4-bda15fa55172",
        "_execution_state": "idle",
        "_uuid": "ca93ce9b34c853c1bb11d837eaff6c2986234757",
        "id": "KIw-VzuEGddI",
        "colab_type": "code",
        "colab": {}
      },
      "source": [
        "all_data['MSZoning'] = all_data['MSZoning'].fillna(all_data['MSZoning'].mode()[0])"
      ],
      "execution_count": 0,
      "outputs": []
    },
    {
      "cell_type": "markdown",
      "metadata": {
        "_cell_guid": "99310a4b-9dbf-4273-81b5-94bf0adf338c",
        "_execution_state": "idle",
        "_uuid": "de39073aef3db7d13894fa82285eff803d6e5c1b",
        "id": "jcPrXM1eGddL",
        "colab_type": "text"
      },
      "source": [
        "- **Utilities** : Esta variable está completamente llena con un **único valor para todos los registros** por ello no vamos a considerarla para la predicción.\n"
      ]
    },
    {
      "cell_type": "code",
      "metadata": {
        "_cell_guid": "facec65d-945f-4be1-86c8-1be011cc2bd0",
        "_execution_state": "idle",
        "_uuid": "de8ee2aca9eb3eeed7442cd9d12843cc64746708",
        "id": "ScZvrCeEGddO",
        "colab_type": "code",
        "colab": {}
      },
      "source": [
        "all_data = all_data.drop(['Utilities'], axis=1)"
      ],
      "execution_count": 0,
      "outputs": []
    },
    {
      "cell_type": "markdown",
      "metadata": {
        "_cell_guid": "c6aabfcd-4a1d-4845-88a1-b2f5cb7d8901",
        "_execution_state": "idle",
        "_uuid": "3450d048089ba8ff98807c6ae3b745b0a34165f9",
        "id": "qTTVkzI9GddS",
        "colab_type": "text"
      },
      "source": [
        "- **TipoDeclaracionImpuestos** : Asumimos para los datos perdidos la cateogría **Typ** (típica) para la forma de declaración de impuestos"
      ]
    },
    {
      "cell_type": "code",
      "metadata": {
        "_cell_guid": "c968aa5e-c34f-442e-9388-69e074a2c84e",
        "_execution_state": "idle",
        "_uuid": "e2d331e991fa868320b5d089f61c58b54ce7cb37",
        "id": "DqGT4Yr-GddU",
        "colab_type": "code",
        "colab": {}
      },
      "source": [
        "all_data[\"Functional\"] = all_data[\"Functional\"].fillna(\"Typ\")"
      ],
      "execution_count": 0,
      "outputs": []
    },
    {
      "cell_type": "markdown",
      "metadata": {
        "_cell_guid": "4f2bad4d-8db8-4ac3-8991-ffa2c775a72d",
        "_execution_state": "idle",
        "_uuid": "c122f5b5596bc4ce615c6b620b7e1824a54a47b8",
        "id": "rSpJzdDrGddd",
        "colab_type": "text"
      },
      "source": [
        "- **SistemaElectrico** : Solo presenta 1 dato perdido así que vamos a reemplazarlo por la moda\n"
      ]
    },
    {
      "cell_type": "code",
      "metadata": {
        "_cell_guid": "d93eab84-7759-4201-bd7d-d450399478f7",
        "_execution_state": "idle",
        "_uuid": "d31761ee8878ce4143cf21adde149cd622c5a039",
        "id": "E4T4pZv7Gdde",
        "colab_type": "code",
        "colab": {}
      },
      "source": [
        "all_data['Electrical'] = all_data['Electrical'].fillna(all_data['Electrical'].mode()[0])"
      ],
      "execution_count": 0,
      "outputs": []
    },
    {
      "cell_type": "markdown",
      "metadata": {
        "_cell_guid": "3d089b8e-3392-4067-a5a1-4f6d4e3e8fb5",
        "_execution_state": "idle",
        "_uuid": "8e0fd54a802f1eddfec0aa4104412c19e1c266d0",
        "id": "v0deqoM9Gddh",
        "colab_type": "text"
      },
      "source": [
        "- **CocinaCalidad**:  Solo presenta 1 dato perdido así que vamos a reemplazarlo por la moda\n"
      ]
    },
    {
      "cell_type": "code",
      "metadata": {
        "_cell_guid": "9f68e47a-5b50-436f-9e31-ff65a1cb1687",
        "_execution_state": "idle",
        "_uuid": "23071ddb69b67b1d742bb15d260421d57aed5583",
        "id": "8YcoCGioGddi",
        "colab_type": "code",
        "colab": {}
      },
      "source": [
        "all_data['KitchenQual'] = all_data['KitchenQual'].fillna(all_data['KitchenQual'].mode()[0])"
      ],
      "execution_count": 0,
      "outputs": []
    },
    {
      "cell_type": "markdown",
      "metadata": {
        "_cell_guid": "e32aec7d-2841-4bfc-a6d2-d181000af4b8",
        "_execution_state": "idle",
        "_uuid": "e8aca612daf293e7228eed9647370036d003e0fb",
        "id": "941HagzpGddp",
        "colab_type": "text"
      },
      "source": [
        "- **Exteriores1erPiso and Exteriores2doPiso** : Ambas variables solo cuentan con 1 dato perdido así que vamos a reemplazarlo por la moda"
      ]
    },
    {
      "cell_type": "code",
      "metadata": {
        "_cell_guid": "85903feb-7fdb-4911-9a6a-f29629bbf308",
        "_execution_state": "idle",
        "_uuid": "6375e9c7c145e0f2832cbe03addbce3d90cb44c4",
        "id": "sk8udecUGdds",
        "colab_type": "code",
        "colab": {}
      },
      "source": [
        "all_data['Exterior1st'] = all_data['Exterior1st'].fillna(all_data['Exterior1st'].mode()[0])\n",
        "all_data['Exterior2nd'] = all_data['Exterior2nd'].fillna(all_data['Exterior2nd'].mode()[0])"
      ],
      "execution_count": 0,
      "outputs": []
    },
    {
      "cell_type": "markdown",
      "metadata": {
        "_cell_guid": "b87d629d-6820-4f3e-80f3-efc16436b982",
        "_execution_state": "idle",
        "_uuid": "67f41f0ad648d536d70e2ccb617a4b495fb7f782",
        "id": "vs6v58weGddu",
        "colab_type": "text"
      },
      "source": [
        "- **TipoVenta** : Los valores perdidos serán reemplazados por la moda, es decir la característica más frecuente del tipo de venta"
      ]
    },
    {
      "cell_type": "code",
      "metadata": {
        "_cell_guid": "aaa407ac-ad4a-4313-8530-ac96826be6e5",
        "_execution_state": "idle",
        "_uuid": "06c104efedaf57a4052c8f61c502cb6313e0beea",
        "id": "vz8eRMKvGddx",
        "colab_type": "code",
        "colab": {}
      },
      "source": [
        "all_data['SaleType'] = all_data['SaleType'].fillna(all_data['SaleType'].mode()[0])"
      ],
      "execution_count": 0,
      "outputs": []
    },
    {
      "cell_type": "markdown",
      "metadata": {
        "_cell_guid": "8ddca94e-7cfa-4f25-9333-29e013c9c30d",
        "_execution_state": "idle",
        "_uuid": "8a3a35f5dc00732929143480a8a0b34a2a502c27",
        "id": "XOJGzeo2Gdd5",
        "colab_type": "text"
      },
      "source": [
        "- **SubClase** : None hace referencia a que la casa no registró el tipo de construcción\n"
      ]
    },
    {
      "cell_type": "code",
      "metadata": {
        "_cell_guid": "23dedd0c-7d5e-4870-8588-8bc4890f627b",
        "_execution_state": "idle",
        "_uuid": "9608a2eada6013e7f14e9341862cca0dca4621e9",
        "id": "wu0shwJqGdd6",
        "colab_type": "code",
        "colab": {}
      },
      "source": [
        "all_data['MSSubClass'] = all_data['MSSubClass'].fillna(\"None\")"
      ],
      "execution_count": 0,
      "outputs": []
    },
    {
      "cell_type": "markdown",
      "metadata": {
        "_cell_guid": "9193270b-8e7b-4a24-b769-d6eb661a1ae7",
        "_execution_state": "idle",
        "_uuid": "465570fcce8944ee31b1709ec6954d03cbf32ff8",
        "id": "RJByttpNGdd8",
        "colab_type": "text"
      },
      "source": [
        "Procedemos a verificar si queda algún dato nulo en el dataset:"
      ]
    },
    {
      "cell_type": "code",
      "metadata": {
        "_cell_guid": "0adf05cf-ce60-4169-805c-ca776e60e85a",
        "_execution_state": "idle",
        "_uuid": "b091fa2ebef19425019e2e550410d0376b9e9fac",
        "id": "bOShovEMGdd-",
        "colab_type": "code",
        "outputId": "f88cb7f7-d82f-4905-85fa-255907747610",
        "colab": {
          "base_uri": "https://localhost:8080/",
          "height": 47
        }
      },
      "source": [
        "all_data_na = (all_data.isnull().sum() / len(all_data)) * 100\n",
        "all_data_na = all_data_na.drop(all_data_na[all_data_na == 0].index).sort_values(ascending=False)\n",
        "missing_data = pd.DataFrame({'Missing Ratio' :all_data_na})\n",
        "missing_data.head()"
      ],
      "execution_count": 39,
      "outputs": [
        {
          "output_type": "execute_result",
          "data": {
            "text/html": [
              "<div>\n",
              "<style scoped>\n",
              "    .dataframe tbody tr th:only-of-type {\n",
              "        vertical-align: middle;\n",
              "    }\n",
              "\n",
              "    .dataframe tbody tr th {\n",
              "        vertical-align: top;\n",
              "    }\n",
              "\n",
              "    .dataframe thead th {\n",
              "        text-align: right;\n",
              "    }\n",
              "</style>\n",
              "<table border=\"1\" class=\"dataframe\">\n",
              "  <thead>\n",
              "    <tr style=\"text-align: right;\">\n",
              "      <th></th>\n",
              "      <th>Missing Ratio</th>\n",
              "    </tr>\n",
              "  </thead>\n",
              "  <tbody>\n",
              "  </tbody>\n",
              "</table>\n",
              "</div>"
            ],
            "text/plain": [
              "Empty DataFrame\n",
              "Columns: [Missing Ratio]\n",
              "Index: []"
            ]
          },
          "metadata": {
            "tags": []
          },
          "execution_count": 39
        }
      ]
    },
    {
      "cell_type": "code",
      "metadata": {
        "id": "j4CI_WbYGdeB",
        "colab_type": "code",
        "outputId": "aed03e02-6c71-4950-d3a0-eee040837151",
        "colab": {
          "base_uri": "https://localhost:8080/",
          "height": 608
        }
      },
      "source": [
        "ms.matrix(all_data)"
      ],
      "execution_count": 40,
      "outputs": [
        {
          "output_type": "execute_result",
          "data": {
            "text/plain": [
              "<matplotlib.axes._subplots.AxesSubplot at 0x7f4fdb756f28>"
            ]
          },
          "metadata": {
            "tags": []
          },
          "execution_count": 40
        },
        {
          "output_type": "display_data",
          "data": {
            "image/png": "[encoded data removed]",
            "text/plain": [
              "<Figure size 1800x720 with 2 Axes>"
            ]
          },
          "metadata": {
            "tags": []
          }
        }
      ]
    },
    {
      "cell_type": "markdown",
      "metadata": {
        "_cell_guid": "7996debf-c724-4365-9d63-f6104bae6140",
        "_execution_state": "idle",
        "_uuid": "915505b9c21b4dd84cc466660a68fb0d6b84cfae",
        "id": "rO8p2eJ5GdeG",
        "colab_type": "text"
      },
      "source": [
        "# Ingeniería de Características ( II )"
      ]
    },
    {
      "cell_type": "markdown",
      "metadata": {
        "_cell_guid": "0d5076fa-b4ab-4787-bebb-8fd445b8815a",
        "_execution_state": "idle",
        "_uuid": "1cfcb671a97068569efb4e7855da91aa30c5bbde",
        "id": "q4XVIARxGdeI",
        "colab_type": "text"
      },
      "source": [
        "**Transformando algunas variables númericas que realmente son categóricas**"
      ]
    },
    {
      "cell_type": "code",
      "metadata": {
        "id": "AAhMcdM0GdeK",
        "colab_type": "code",
        "outputId": "cab3029a-f2e7-4ce7-f125-56be31871ac7",
        "colab": {
          "base_uri": "https://localhost:8080/",
          "height": 33
        }
      },
      "source": [
        "print(all_data['YrSold'].unique(),all_data['MoSold'].unique())"
      ],
      "execution_count": 41,
      "outputs": [
        {
          "output_type": "stream",
          "text": [
            "[2008 2007 2006 2009 2010] [ 2  5  9 12 10  8 11  4  1  7  3  6]\n"
          ],
          "name": "stdout"
        }
      ]
    },
    {
      "cell_type": "code",
      "metadata": {
        "_cell_guid": "a52dc2f9-ca02-4024-987a-165ce630b356",
        "_execution_state": "idle",
        "_uuid": "cc7557817a4442e799e4e4c84dd1efd8bd08867a",
        "id": "uAKzmMtiGdeN",
        "colab_type": "code",
        "colab": {}
      },
      "source": [
        "#Cambiar la variable Tipo de construcción a tipo letra (str)\n",
        "all_data['MSSubClass'] = all_data['MSSubClass'].astype(str)\n",
        "\n",
        "\n",
        "#Cambiar la variable Condición general de la casa a tipo letra (str)\n",
        "all_data['OverallCond'] = all_data['OverallCond'].astype(str)\n",
        "\n",
        "\n",
        "#Cambiar las variables Año y Mes de venta de la casa a tipo letra (str)\n",
        "all_data['YrSold'] = all_data['YrSold'].astype(str)\n",
        "all_data['MoSold'] = all_data['MoSold'].astype(str)"
      ],
      "execution_count": 0,
      "outputs": []
    },
    {
      "cell_type": "code",
      "metadata": {
        "id": "gv1aTmTlqwiL",
        "colab_type": "code",
        "outputId": "ae4b4336-91f4-470f-ecd5-c8285b7205d5",
        "colab": {
          "base_uri": "https://localhost:8080/",
          "height": 456
        }
      },
      "source": [
        "cols = ('FireplaceQu', 'BsmtQual', 'BsmtCond', 'GarageQual', 'GarageCond', \n",
        "        'ExterQual', 'ExterCond','HeatingQC', 'PoolQC', 'KitchenQual', 'BsmtFinType1', \n",
        "        'BsmtFinType2', 'Functional', 'Fence', 'BsmtExposure', 'GarageFinish', 'LandSlope',\n",
        "        'LotShape', 'PavedDrive', 'Street', 'Alley', 'CentralAir', 'MSSubClass', 'OverallCond', \n",
        "        'YrSold', 'MoSold')\n",
        "\n",
        "for c in cols:\n",
        "    print(all_data[c].unique())"
      ],
      "execution_count": 43,
      "outputs": [
        {
          "output_type": "stream",
          "text": [
            "['None' 'TA' 'Gd' 'Fa' 'Ex' 'Po']\n",
            "['Gd' 'TA' 'Ex' 'None' 'Fa']\n",
            "['TA' 'Gd' 'None' 'Fa' 'Po']\n",
            "['TA' 'Fa' 'Gd' 'None' 'Ex' 'Po']\n",
            "['TA' 'Fa' 'None' 'Gd' 'Po' 'Ex']\n",
            "['Gd' 'TA' 'Ex' 'Fa']\n",
            "['TA' 'Gd' 'Fa' 'Po' 'Ex']\n",
            "['Ex' 'Gd' 'TA' 'Fa' 'Po']\n",
            "['None' 'Ex' 'Fa' 'Gd']\n",
            "['Gd' 'TA' 'Ex' 'Fa']\n",
            "['GLQ' 'ALQ' 'Unf' 'Rec' 'BLQ' 'None' 'LwQ']\n",
            "['Unf' 'BLQ' 'None' 'ALQ' 'Rec' 'LwQ' 'GLQ']\n",
            "['Typ' 'Min1' 'Maj1' 'Min2' 'Mod' 'Maj2' 'Sev']\n",
            "['None' 'MnPrv' 'GdWo' 'GdPrv' 'MnWw']\n",
            "['No' 'Gd' 'Mn' 'Av' 'None']\n",
            "['RFn' 'Unf' 'Fin' 'None']\n",
            "['Gtl' 'Mod' 'Sev']\n",
            "['Reg' 'IR1' 'IR2' 'IR3']\n",
            "['Y' 'N' 'P']\n",
            "['Pave' 'Grvl']\n",
            "['None' 'Grvl' 'Pave']\n",
            "['Y' 'N']\n",
            "['60' '20' '70' '50' '190' '45' '90' '120' '30' '85' '80' '160' '75' '180'\n",
            " '40' '150']\n",
            "['5' '8' '6' '7' '4' '2' '3' '9' '1']\n",
            "['2008' '2007' '2006' '2009' '2010']\n",
            "['2' '5' '9' '12' '10' '8' '11' '4' '1' '7' '3' '6']\n"
          ],
          "name": "stdout"
        }
      ]
    },
    {
      "cell_type": "code",
      "metadata": {
        "id": "_0bGUGPbwexB",
        "colab_type": "code",
        "outputId": "e9382b11-5f41-4bad-a7c8-b8cc8f0b420a",
        "colab": {
          "base_uri": "https://localhost:8080/",
          "height": 196
        }
      },
      "source": [
        "all_data['YearBuilt'].unique()"
      ],
      "execution_count": 45,
      "outputs": [
        {
          "output_type": "execute_result",
          "data": {
            "text/plain": [
              "array([2003, 1976, 2001, 1915, 2000, 1993, 2004, 1973, 1931, 1939, 1965,\n",
              "       2005, 1962, 2006, 1960, 1929, 1970, 1967, 1958, 1930, 2002, 1968,\n",
              "       2007, 1951, 1957, 1927, 1920, 1966, 1959, 1994, 1954, 1953, 1955,\n",
              "       1983, 1975, 1997, 1934, 1963, 1981, 1964, 1999, 1972, 1921, 1945,\n",
              "       1982, 1998, 1956, 1948, 1910, 1995, 1991, 2009, 1950, 1961, 1977,\n",
              "       1985, 1979, 1885, 1919, 1990, 1969, 1935, 1988, 1971, 1952, 1936,\n",
              "       1923, 1924, 1984, 1926, 1940, 1941, 1987, 1986, 2008, 1908, 1892,\n",
              "       1916, 1932, 1918, 1912, 1947, 1925, 1900, 1980, 1989, 1992, 1949,\n",
              "       1880, 1928, 1978, 1922, 1996, 2010, 1946, 1913, 1937, 1942, 1938,\n",
              "       1974, 1893, 1914, 1906, 1890, 1898, 1904, 1882, 1875, 1911, 1917,\n",
              "       1872, 1905, 1907, 1896, 1902, 1895, 1879, 1901])"
            ]
          },
          "metadata": {
            "tags": []
          },
          "execution_count": 45
        }
      ]
    },
    {
      "cell_type": "markdown",
      "metadata": {
        "_cell_guid": "a4879ef7-ab0d-4955-bc48-7ebcfa04b3bd",
        "_execution_state": "idle",
        "_uuid": "9976d6288bc183d443fbccc2bde439d5bc3a87b1",
        "id": "FLB08LSNGdec",
        "colab_type": "text"
      },
      "source": [
        "**Añadimos una variable importante**"
      ]
    },
    {
      "cell_type": "markdown",
      "metadata": {
        "_cell_guid": "b9486529-a3d2-443d-8a90-6bfbc406583b",
        "_execution_state": "idle",
        "_uuid": "ab22a33cf69e8092b3c4ae0a80b1f5f31b67edbc",
        "id": "3aRwk-bWGded",
        "colab_type": "text"
      },
      "source": [
        "Debido a que el área total es importante para predecir el precio de la casa, sumamos las tres variables **TotalBase, 1erPiso, 2doPiso**"
      ]
    },
    {
      "cell_type": "code",
      "metadata": {
        "_cell_guid": "fc1a8f1a-f003-4538-8e60-d819f46362a3",
        "_execution_state": "idle",
        "_uuid": "208f8d22188786227fff4a978dc3b11b4e1ffd90",
        "id": "DHT7jgU5Gded",
        "colab_type": "code",
        "colab": {}
      },
      "source": [
        "#Añadiendo tamaño total del area\n",
        "all_data['TotalArea'] = all_data['TotalBsmtSF'] + all_data['1stFlrSF'] + all_data['2ndFlrSF']"
      ],
      "execution_count": 0,
      "outputs": []
    },
    {
      "cell_type": "markdown",
      "metadata": {
        "_cell_guid": "91c73aad-82d1-4301-b540-b2f69dc13902",
        "_execution_state": "idle",
        "_uuid": "aa36d6e3253e354b46d9c9c6f2e8a4089c76be16",
        "id": "NWATCwEtGdeh",
        "colab_type": "text"
      },
      "source": [
        "**Detectamos el sesgo de las variables predictoras** - Solo aquellas con data numérica"
      ]
    },
    {
      "cell_type": "code",
      "metadata": {
        "_cell_guid": "c5972a73-7e86-4164-a9d6-58432dae1933",
        "_execution_state": "idle",
        "_uuid": "53c471c7008c66590f257e70866f8a3037813f13",
        "id": "6KsCqWuMGdeh",
        "colab_type": "code",
        "outputId": "bd785dbc-09bb-4398-f069-f717dee16eb3",
        "colab": {
          "base_uri": "https://localhost:8080/",
          "height": 383
        }
      },
      "source": [
        "#Filtramos aquellas variables que tengan datos diferentes al tipo object, es decir numéricas\n",
        "numeric_feats = all_data.dtypes[all_data.dtypes != \"object\"].index\n",
        "\n",
        "#Aplicamos la función skew a las variables filtradas y mostramos el resultado ordenando de forma ascendente\n",
        "skewed_feats = all_data[numeric_feats].apply(lambda x: skew(x.dropna())).sort_values(ascending=False)\n",
        "print(\"\\nSesgo en características numéricas: \\n\")\n",
        "skewness = pd.DataFrame({'Skew' :skewed_feats})\n",
        "skewness.head(10)"
      ],
      "execution_count": 47,
      "outputs": [
        {
          "output_type": "stream",
          "text": [
            "\n",
            "Sesgo en características numéricas: \n",
            "\n"
          ],
          "name": "stdout"
        },
        {
          "output_type": "execute_result",
          "data": {
            "text/html": [
              "<div>\n",
              "<style scoped>\n",
              "    .dataframe tbody tr th:only-of-type {\n",
              "        vertical-align: middle;\n",
              "    }\n",
              "\n",
              "    .dataframe tbody tr th {\n",
              "        vertical-align: top;\n",
              "    }\n",
              "\n",
              "    .dataframe thead th {\n",
              "        text-align: right;\n",
              "    }\n",
              "</style>\n",
              "<table border=\"1\" class=\"dataframe\">\n",
              "  <thead>\n",
              "    <tr style=\"text-align: right;\">\n",
              "      <th></th>\n",
              "      <th>Skew</th>\n",
              "    </tr>\n",
              "  </thead>\n",
              "  <tbody>\n",
              "    <tr>\n",
              "      <th>MiscVal</th>\n",
              "      <td>21.939672</td>\n",
              "    </tr>\n",
              "    <tr>\n",
              "      <th>PoolArea</th>\n",
              "      <td>17.688664</td>\n",
              "    </tr>\n",
              "    <tr>\n",
              "      <th>LotArea</th>\n",
              "      <td>13.109495</td>\n",
              "    </tr>\n",
              "    <tr>\n",
              "      <th>LowQualFinSF</th>\n",
              "      <td>12.084539</td>\n",
              "    </tr>\n",
              "    <tr>\n",
              "      <th>3SsnPorch</th>\n",
              "      <td>11.372080</td>\n",
              "    </tr>\n",
              "    <tr>\n",
              "      <th>KitchenAbvGr</th>\n",
              "      <td>4.300550</td>\n",
              "    </tr>\n",
              "    <tr>\n",
              "      <th>BsmtFinSF2</th>\n",
              "      <td>4.144503</td>\n",
              "    </tr>\n",
              "    <tr>\n",
              "      <th>EnclosedPorch</th>\n",
              "      <td>4.002344</td>\n",
              "    </tr>\n",
              "    <tr>\n",
              "      <th>ScreenPorch</th>\n",
              "      <td>3.945101</td>\n",
              "    </tr>\n",
              "    <tr>\n",
              "      <th>BsmtHalfBath</th>\n",
              "      <td>3.929996</td>\n",
              "    </tr>\n",
              "  </tbody>\n",
              "</table>\n",
              "</div>"
            ],
            "text/plain": [
              "                    Skew\n",
              "MiscVal        21.939672\n",
              "PoolArea       17.688664\n",
              "LotArea        13.109495\n",
              "LowQualFinSF   12.084539\n",
              "3SsnPorch      11.372080\n",
              "KitchenAbvGr    4.300550\n",
              "BsmtFinSF2      4.144503\n",
              "EnclosedPorch   4.002344\n",
              "ScreenPorch     3.945101\n",
              "BsmtHalfBath    3.929996"
            ]
          },
          "metadata": {
            "tags": []
          },
          "execution_count": 47
        }
      ]
    },
    {
      "cell_type": "markdown",
      "metadata": {
        "_cell_guid": "9f110087-b707-4073-a1df-0a0a9d6ccbd3",
        "_execution_state": "idle",
        "_uuid": "cf63bdc9f4f80d81f1bfa14f89d65ff104d45e5b",
        "id": "EfnjDGVPGdek",
        "colab_type": "text"
      },
      "source": [
        "**Transformación Box Cox**"
      ]
    },
    {
      "cell_type": "markdown",
      "metadata": {
        "_cell_guid": "d1d18243-42d8-4a21-808d-784c21e53973",
        "_execution_state": "idle",
        "_uuid": "eab0b4c0a85ae2fbe1bdeea0eedd113904ef3eb1",
        "id": "L268MnnJGdel",
        "colab_type": "text"
      },
      "source": [
        "Usamos la transformación BoxCox de la librería scipy"
      ]
    },
    {
      "cell_type": "code",
      "metadata": {
        "_cell_guid": "d8ebce87-c55d-46c6-8f06-8b34116d7370",
        "_execution_state": "idle",
        "_uuid": "969fdff338ef46f064d8f855782c96d322a264b1",
        "id": "hNCFdpVVGden",
        "colab_type": "code",
        "outputId": "d31dca66-f61f-4c89-a12d-9f642a7f69a3",
        "colab": {
          "base_uri": "https://localhost:8080/",
          "height": 33
        }
      },
      "source": [
        "skewness = skewness[abs(skewness) > 0.75]\n",
        "print(\"Hay {} características numéricas que se han transformado vía BoxCox\".format(skewness.shape[0]))\n",
        "\n",
        "from scipy.special import boxcox1p\n",
        "skewed_features = skewness.index\n",
        "lam = 0.15\n",
        "for feat in skewed_features:\n",
        "    #all_data[feat] += 1\n",
        "    all_data[feat] = boxcox1p(all_data[feat], lam)\n",
        "    \n",
        "#all_data[skewed_features] = np.log1p(all_data[skewed_features])"
      ],
      "execution_count": 48,
      "outputs": [
        {
          "output_type": "stream",
          "text": [
            "Hay 33 características numéricas que se han transformado vía BoxCox\n"
          ],
          "name": "stdout"
        }
      ]
    },
    {
      "cell_type": "markdown",
      "metadata": {
        "_cell_guid": "39639caf-31a4-4401-a663-0ba9536b39bf",
        "_execution_state": "idle",
        "_uuid": "5a13a6e2a3e48975de9129d1593bd38df44a1069",
        "id": "BsRuL7uWGder",
        "colab_type": "text"
      },
      "source": [
        "**Generamos nuevas variables dummy**"
      ]
    },
    {
      "cell_type": "code",
      "metadata": {
        "_cell_guid": "c8e63516-e4e2-4f36-a60e-1c8316392c60",
        "_execution_state": "idle",
        "_uuid": "acd44e283867425257ffd1fb2f4893cdbff43f67",
        "id": "vKjErBmMGdes",
        "colab_type": "code",
        "outputId": "1ca9ac0d-e2ff-4fde-a825-6252ec0e93a2",
        "colab": {
          "base_uri": "https://localhost:8080/",
          "height": 33
        }
      },
      "source": [
        "#all_data = pd.get_dummies(all_data)\n",
        "X_re=pd.get_dummies(all_data, prefix_sep='_', drop_first=True)\n",
        "print(all_data.shape)"
      ],
      "execution_count": 49,
      "outputs": [
        {
          "output_type": "stream",
          "text": [
            "(2917, 79)\n"
          ],
          "name": "stdout"
        }
      ]
    },
    {
      "cell_type": "code",
      "metadata": {
        "id": "Ywm4iQJDH2pf",
        "colab_type": "code",
        "colab": {
          "base_uri": "https://localhost:8080/",
          "height": 238
        },
        "outputId": "e7505d6a-9adf-41db-a47b-b17bc88387b7"
      },
      "source": [
        "X_re.head()"
      ],
      "execution_count": 50,
      "outputs": [
        {
          "output_type": "execute_result",
          "data": {
            "text/html": [
              "<div>\n",
              "<style scoped>\n",
              "    .dataframe tbody tr th:only-of-type {\n",
              "        vertical-align: middle;\n",
              "    }\n",
              "\n",
              "    .dataframe tbody tr th {\n",
              "        vertical-align: top;\n",
              "    }\n",
              "\n",
              "    .dataframe thead th {\n",
              "        text-align: right;\n",
              "    }\n",
              "</style>\n",
              "<table border=\"1\" class=\"dataframe\">\n",
              "  <thead>\n",
              "    <tr style=\"text-align: right;\">\n",
              "      <th></th>\n",
              "      <th>1stFlrSF</th>\n",
              "      <th>2ndFlrSF</th>\n",
              "      <th>3SsnPorch</th>\n",
              "      <th>BedroomAbvGr</th>\n",
              "      <th>BsmtFinSF1</th>\n",
              "      <th>BsmtFinSF2</th>\n",
              "      <th>BsmtFullBath</th>\n",
              "      <th>BsmtHalfBath</th>\n",
              "      <th>BsmtUnfSF</th>\n",
              "      <th>EnclosedPorch</th>\n",
              "      <th>Fireplaces</th>\n",
              "      <th>FullBath</th>\n",
              "      <th>GarageArea</th>\n",
              "      <th>GarageCars</th>\n",
              "      <th>GarageYrBlt</th>\n",
              "      <th>GrLivArea</th>\n",
              "      <th>HalfBath</th>\n",
              "      <th>KitchenAbvGr</th>\n",
              "      <th>LotArea</th>\n",
              "      <th>LotFrontage</th>\n",
              "      <th>LowQualFinSF</th>\n",
              "      <th>MasVnrArea</th>\n",
              "      <th>MiscVal</th>\n",
              "      <th>OpenPorchSF</th>\n",
              "      <th>OverallQual</th>\n",
              "      <th>PoolArea</th>\n",
              "      <th>ScreenPorch</th>\n",
              "      <th>TotRmsAbvGrd</th>\n",
              "      <th>TotalBsmtSF</th>\n",
              "      <th>WoodDeckSF</th>\n",
              "      <th>YearBuilt</th>\n",
              "      <th>YearRemodAdd</th>\n",
              "      <th>TotalArea</th>\n",
              "      <th>Alley_None</th>\n",
              "      <th>Alley_Pave</th>\n",
              "      <th>BldgType_2fmCon</th>\n",
              "      <th>BldgType_Duplex</th>\n",
              "      <th>BldgType_Twnhs</th>\n",
              "      <th>BldgType_TwnhsE</th>\n",
              "      <th>BsmtCond_Gd</th>\n",
              "      <th>...</th>\n",
              "      <th>OverallCond_4</th>\n",
              "      <th>OverallCond_5</th>\n",
              "      <th>OverallCond_6</th>\n",
              "      <th>OverallCond_7</th>\n",
              "      <th>OverallCond_8</th>\n",
              "      <th>OverallCond_9</th>\n",
              "      <th>PavedDrive_P</th>\n",
              "      <th>PavedDrive_Y</th>\n",
              "      <th>PoolQC_Fa</th>\n",
              "      <th>PoolQC_Gd</th>\n",
              "      <th>PoolQC_None</th>\n",
              "      <th>RoofMatl_Membran</th>\n",
              "      <th>RoofMatl_Metal</th>\n",
              "      <th>RoofMatl_Roll</th>\n",
              "      <th>RoofMatl_Tar&amp;Grv</th>\n",
              "      <th>RoofMatl_WdShake</th>\n",
              "      <th>RoofMatl_WdShngl</th>\n",
              "      <th>RoofStyle_Gable</th>\n",
              "      <th>RoofStyle_Gambrel</th>\n",
              "      <th>RoofStyle_Hip</th>\n",
              "      <th>RoofStyle_Mansard</th>\n",
              "      <th>RoofStyle_Shed</th>\n",
              "      <th>SaleCondition_AdjLand</th>\n",
              "      <th>SaleCondition_Alloca</th>\n",
              "      <th>SaleCondition_Family</th>\n",
              "      <th>SaleCondition_Normal</th>\n",
              "      <th>SaleCondition_Partial</th>\n",
              "      <th>SaleType_CWD</th>\n",
              "      <th>SaleType_Con</th>\n",
              "      <th>SaleType_ConLD</th>\n",
              "      <th>SaleType_ConLI</th>\n",
              "      <th>SaleType_ConLw</th>\n",
              "      <th>SaleType_New</th>\n",
              "      <th>SaleType_Oth</th>\n",
              "      <th>SaleType_WD</th>\n",
              "      <th>Street_Pave</th>\n",
              "      <th>YrSold_2007</th>\n",
              "      <th>YrSold_2008</th>\n",
              "      <th>YrSold_2009</th>\n",
              "      <th>YrSold_2010</th>\n",
              "    </tr>\n",
              "  </thead>\n",
              "  <tbody>\n",
              "    <tr>\n",
              "      <th>0</th>\n",
              "      <td>11.692623</td>\n",
              "      <td>11.686189</td>\n",
              "      <td>0.0</td>\n",
              "      <td>1.540963</td>\n",
              "      <td>11.170327</td>\n",
              "      <td>0.0</td>\n",
              "      <td>0.730463</td>\n",
              "      <td>0.000000</td>\n",
              "      <td>7.483296</td>\n",
              "      <td>0.000000</td>\n",
              "      <td>0.000000</td>\n",
              "      <td>1.194318</td>\n",
              "      <td>10.506271</td>\n",
              "      <td>1.194318</td>\n",
              "      <td>14.187527</td>\n",
              "      <td>13.698888</td>\n",
              "      <td>0.730463</td>\n",
              "      <td>0.730463</td>\n",
              "      <td>19.212182</td>\n",
              "      <td>5.831328</td>\n",
              "      <td>0.0</td>\n",
              "      <td>8.059126</td>\n",
              "      <td>0.0</td>\n",
              "      <td>5.714669</td>\n",
              "      <td>2.440268</td>\n",
              "      <td>0.0</td>\n",
              "      <td>0.0</td>\n",
              "      <td>2.602594</td>\n",
              "      <td>11.692623</td>\n",
              "      <td>0.000000</td>\n",
              "      <td>14.187527</td>\n",
              "      <td>14.187527</td>\n",
              "      <td>14.976591</td>\n",
              "      <td>1</td>\n",
              "      <td>0</td>\n",
              "      <td>0</td>\n",
              "      <td>0</td>\n",
              "      <td>0</td>\n",
              "      <td>0</td>\n",
              "      <td>0</td>\n",
              "      <td>...</td>\n",
              "      <td>0</td>\n",
              "      <td>1</td>\n",
              "      <td>0</td>\n",
              "      <td>0</td>\n",
              "      <td>0</td>\n",
              "      <td>0</td>\n",
              "      <td>0</td>\n",
              "      <td>1</td>\n",
              "      <td>0</td>\n",
              "      <td>0</td>\n",
              "      <td>1</td>\n",
              "      <td>0</td>\n",
              "      <td>0</td>\n",
              "      <td>0</td>\n",
              "      <td>0</td>\n",
              "      <td>0</td>\n",
              "      <td>0</td>\n",
              "      <td>1</td>\n",
              "      <td>0</td>\n",
              "      <td>0</td>\n",
              "      <td>0</td>\n",
              "      <td>0</td>\n",
              "      <td>0</td>\n",
              "      <td>0</td>\n",
              "      <td>0</td>\n",
              "      <td>1</td>\n",
              "      <td>0</td>\n",
              "      <td>0</td>\n",
              "      <td>0</td>\n",
              "      <td>0</td>\n",
              "      <td>0</td>\n",
              "      <td>0</td>\n",
              "      <td>0</td>\n",
              "      <td>0</td>\n",
              "      <td>1</td>\n",
              "      <td>1</td>\n",
              "      <td>0</td>\n",
              "      <td>1</td>\n",
              "      <td>0</td>\n",
              "      <td>0</td>\n",
              "    </tr>\n",
              "    <tr>\n",
              "      <th>1</th>\n",
              "      <td>12.792276</td>\n",
              "      <td>0.000000</td>\n",
              "      <td>0.0</td>\n",
              "      <td>1.540963</td>\n",
              "      <td>12.062832</td>\n",
              "      <td>0.0</td>\n",
              "      <td>0.000000</td>\n",
              "      <td>0.730463</td>\n",
              "      <td>8.897844</td>\n",
              "      <td>0.000000</td>\n",
              "      <td>0.730463</td>\n",
              "      <td>1.194318</td>\n",
              "      <td>10.062098</td>\n",
              "      <td>1.194318</td>\n",
              "      <td>14.145138</td>\n",
              "      <td>12.792276</td>\n",
              "      <td>0.000000</td>\n",
              "      <td>0.730463</td>\n",
              "      <td>19.712205</td>\n",
              "      <td>6.221214</td>\n",
              "      <td>0.0</td>\n",
              "      <td>0.000000</td>\n",
              "      <td>0.0</td>\n",
              "      <td>0.000000</td>\n",
              "      <td>2.259674</td>\n",
              "      <td>0.0</td>\n",
              "      <td>0.0</td>\n",
              "      <td>2.259674</td>\n",
              "      <td>12.792276</td>\n",
              "      <td>9.010206</td>\n",
              "      <td>14.145138</td>\n",
              "      <td>14.145138</td>\n",
              "      <td>14.923100</td>\n",
              "      <td>1</td>\n",
              "      <td>0</td>\n",
              "      <td>0</td>\n",
              "      <td>0</td>\n",
              "      <td>0</td>\n",
              "      <td>0</td>\n",
              "      <td>0</td>\n",
              "      <td>...</td>\n",
              "      <td>0</td>\n",
              "      <td>0</td>\n",
              "      <td>0</td>\n",
              "      <td>0</td>\n",
              "      <td>1</td>\n",
              "      <td>0</td>\n",
              "      <td>0</td>\n",
              "      <td>1</td>\n",
              "      <td>0</td>\n",
              "      <td>0</td>\n",
              "      <td>1</td>\n",
              "      <td>0</td>\n",
              "      <td>0</td>\n",
              "      <td>0</td>\n",
              "      <td>0</td>\n",
              "      <td>0</td>\n",
              "      <td>0</td>\n",
              "      <td>1</td>\n",
              "      <td>0</td>\n",
              "      <td>0</td>\n",
              "      <td>0</td>\n",
              "      <td>0</td>\n",
              "      <td>0</td>\n",
              "      <td>0</td>\n",
              "      <td>0</td>\n",
              "      <td>1</td>\n",
              "      <td>0</td>\n",
              "      <td>0</td>\n",
              "      <td>0</td>\n",
              "      <td>0</td>\n",
              "      <td>0</td>\n",
              "      <td>0</td>\n",
              "      <td>0</td>\n",
              "      <td>0</td>\n",
              "      <td>1</td>\n",
              "      <td>1</td>\n",
              "      <td>1</td>\n",
              "      <td>0</td>\n",
              "      <td>0</td>\n",
              "      <td>0</td>\n",
              "    </tr>\n",
              "    <tr>\n",
              "      <th>2</th>\n",
              "      <td>11.892039</td>\n",
              "      <td>11.724598</td>\n",
              "      <td>0.0</td>\n",
              "      <td>1.540963</td>\n",
              "      <td>10.200343</td>\n",
              "      <td>0.0</td>\n",
              "      <td>0.730463</td>\n",
              "      <td>0.000000</td>\n",
              "      <td>9.917060</td>\n",
              "      <td>0.000000</td>\n",
              "      <td>0.730463</td>\n",
              "      <td>1.194318</td>\n",
              "      <td>10.775536</td>\n",
              "      <td>1.194318</td>\n",
              "      <td>14.184404</td>\n",
              "      <td>13.832085</td>\n",
              "      <td>0.730463</td>\n",
              "      <td>0.730463</td>\n",
              "      <td>20.347241</td>\n",
              "      <td>5.914940</td>\n",
              "      <td>0.0</td>\n",
              "      <td>7.646538</td>\n",
              "      <td>0.0</td>\n",
              "      <td>5.053371</td>\n",
              "      <td>2.440268</td>\n",
              "      <td>0.0</td>\n",
              "      <td>0.0</td>\n",
              "      <td>2.259674</td>\n",
              "      <td>11.892039</td>\n",
              "      <td>0.000000</td>\n",
              "      <td>14.184404</td>\n",
              "      <td>14.185966</td>\n",
              "      <td>15.149678</td>\n",
              "      <td>1</td>\n",
              "      <td>0</td>\n",
              "      <td>0</td>\n",
              "      <td>0</td>\n",
              "      <td>0</td>\n",
              "      <td>0</td>\n",
              "      <td>0</td>\n",
              "      <td>...</td>\n",
              "      <td>0</td>\n",
              "      <td>1</td>\n",
              "      <td>0</td>\n",
              "      <td>0</td>\n",
              "      <td>0</td>\n",
              "      <td>0</td>\n",
              "      <td>0</td>\n",
              "      <td>1</td>\n",
              "      <td>0</td>\n",
              "      <td>0</td>\n",
              "      <td>1</td>\n",
              "      <td>0</td>\n",
              "      <td>0</td>\n",
              "      <td>0</td>\n",
              "      <td>0</td>\n",
              "      <td>0</td>\n",
              "      <td>0</td>\n",
              "      <td>1</td>\n",
              "      <td>0</td>\n",
              "      <td>0</td>\n",
              "      <td>0</td>\n",
              "      <td>0</td>\n",
              "      <td>0</td>\n",
              "      <td>0</td>\n",
              "      <td>0</td>\n",
              "      <td>1</td>\n",
              "      <td>0</td>\n",
              "      <td>0</td>\n",
              "      <td>0</td>\n",
              "      <td>0</td>\n",
              "      <td>0</td>\n",
              "      <td>0</td>\n",
              "      <td>0</td>\n",
              "      <td>0</td>\n",
              "      <td>1</td>\n",
              "      <td>1</td>\n",
              "      <td>0</td>\n",
              "      <td>1</td>\n",
              "      <td>0</td>\n",
              "      <td>0</td>\n",
              "    </tr>\n",
              "    <tr>\n",
              "      <th>3</th>\n",
              "      <td>12.013683</td>\n",
              "      <td>11.354094</td>\n",
              "      <td>0.0</td>\n",
              "      <td>1.540963</td>\n",
              "      <td>8.274266</td>\n",
              "      <td>0.0</td>\n",
              "      <td>0.730463</td>\n",
              "      <td>0.000000</td>\n",
              "      <td>10.468500</td>\n",
              "      <td>8.797736</td>\n",
              "      <td>0.730463</td>\n",
              "      <td>0.730463</td>\n",
              "      <td>10.918253</td>\n",
              "      <td>1.540963</td>\n",
              "      <td>14.179714</td>\n",
              "      <td>13.711364</td>\n",
              "      <td>0.000000</td>\n",
              "      <td>0.730463</td>\n",
              "      <td>19.691553</td>\n",
              "      <td>5.684507</td>\n",
              "      <td>0.0</td>\n",
              "      <td>0.000000</td>\n",
              "      <td>0.0</td>\n",
              "      <td>4.745132</td>\n",
              "      <td>2.440268</td>\n",
              "      <td>0.0</td>\n",
              "      <td>0.0</td>\n",
              "      <td>2.440268</td>\n",
              "      <td>11.354094</td>\n",
              "      <td>0.000000</td>\n",
              "      <td>14.047529</td>\n",
              "      <td>14.135652</td>\n",
              "      <td>14.857121</td>\n",
              "      <td>1</td>\n",
              "      <td>0</td>\n",
              "      <td>0</td>\n",
              "      <td>0</td>\n",
              "      <td>0</td>\n",
              "      <td>0</td>\n",
              "      <td>1</td>\n",
              "      <td>...</td>\n",
              "      <td>0</td>\n",
              "      <td>1</td>\n",
              "      <td>0</td>\n",
              "      <td>0</td>\n",
              "      <td>0</td>\n",
              "      <td>0</td>\n",
              "      <td>0</td>\n",
              "      <td>1</td>\n",
              "      <td>0</td>\n",
              "      <td>0</td>\n",
              "      <td>1</td>\n",
              "      <td>0</td>\n",
              "      <td>0</td>\n",
              "      <td>0</td>\n",
              "      <td>0</td>\n",
              "      <td>0</td>\n",
              "      <td>0</td>\n",
              "      <td>1</td>\n",
              "      <td>0</td>\n",
              "      <td>0</td>\n",
              "      <td>0</td>\n",
              "      <td>0</td>\n",
              "      <td>0</td>\n",
              "      <td>0</td>\n",
              "      <td>0</td>\n",
              "      <td>0</td>\n",
              "      <td>0</td>\n",
              "      <td>0</td>\n",
              "      <td>0</td>\n",
              "      <td>0</td>\n",
              "      <td>0</td>\n",
              "      <td>0</td>\n",
              "      <td>0</td>\n",
              "      <td>0</td>\n",
              "      <td>1</td>\n",
              "      <td>1</td>\n",
              "      <td>0</td>\n",
              "      <td>0</td>\n",
              "      <td>0</td>\n",
              "      <td>0</td>\n",
              "    </tr>\n",
              "    <tr>\n",
              "      <th>4</th>\n",
              "      <td>12.510588</td>\n",
              "      <td>12.271365</td>\n",
              "      <td>0.0</td>\n",
              "      <td>1.820334</td>\n",
              "      <td>10.971129</td>\n",
              "      <td>0.0</td>\n",
              "      <td>0.730463</td>\n",
              "      <td>0.000000</td>\n",
              "      <td>10.221051</td>\n",
              "      <td>0.000000</td>\n",
              "      <td>0.730463</td>\n",
              "      <td>1.194318</td>\n",
              "      <td>11.627708</td>\n",
              "      <td>1.540963</td>\n",
              "      <td>14.182841</td>\n",
              "      <td>14.480029</td>\n",
              "      <td>0.730463</td>\n",
              "      <td>0.730463</td>\n",
              "      <td>21.325160</td>\n",
              "      <td>6.314735</td>\n",
              "      <td>0.0</td>\n",
              "      <td>9.391827</td>\n",
              "      <td>0.0</td>\n",
              "      <td>6.314735</td>\n",
              "      <td>2.602594</td>\n",
              "      <td>0.0</td>\n",
              "      <td>0.0</td>\n",
              "      <td>2.750250</td>\n",
              "      <td>12.510588</td>\n",
              "      <td>8.013884</td>\n",
              "      <td>14.182841</td>\n",
              "      <td>14.182841</td>\n",
              "      <td>15.852312</td>\n",
              "      <td>1</td>\n",
              "      <td>0</td>\n",
              "      <td>0</td>\n",
              "      <td>0</td>\n",
              "      <td>0</td>\n",
              "      <td>0</td>\n",
              "      <td>0</td>\n",
              "      <td>...</td>\n",
              "      <td>0</td>\n",
              "      <td>1</td>\n",
              "      <td>0</td>\n",
              "      <td>0</td>\n",
              "      <td>0</td>\n",
              "      <td>0</td>\n",
              "      <td>0</td>\n",
              "      <td>1</td>\n",
              "      <td>0</td>\n",
              "      <td>0</td>\n",
              "      <td>1</td>\n",
              "      <td>0</td>\n",
              "      <td>0</td>\n",
              "      <td>0</td>\n",
              "      <td>0</td>\n",
              "      <td>0</td>\n",
              "      <td>0</td>\n",
              "      <td>1</td>\n",
              "      <td>0</td>\n",
              "      <td>0</td>\n",
              "      <td>0</td>\n",
              "      <td>0</td>\n",
              "      <td>0</td>\n",
              "      <td>0</td>\n",
              "      <td>0</td>\n",
              "      <td>1</td>\n",
              "      <td>0</td>\n",
              "      <td>0</td>\n",
              "      <td>0</td>\n",
              "      <td>0</td>\n",
              "      <td>0</td>\n",
              "      <td>0</td>\n",
              "      <td>0</td>\n",
              "      <td>0</td>\n",
              "      <td>1</td>\n",
              "      <td>1</td>\n",
              "      <td>0</td>\n",
              "      <td>1</td>\n",
              "      <td>0</td>\n",
              "      <td>0</td>\n",
              "    </tr>\n",
              "  </tbody>\n",
              "</table>\n",
              "<p>5 rows × 292 columns</p>\n",
              "</div>"
            ],
            "text/plain": [
              "    1stFlrSF   2ndFlrSF  3SsnPorch  ...  YrSold_2008  YrSold_2009  YrSold_2010\n",
              "0  11.692623  11.686189        0.0  ...            1            0            0\n",
              "1  12.792276   0.000000        0.0  ...            0            0            0\n",
              "2  11.892039  11.724598        0.0  ...            1            0            0\n",
              "3  12.013683  11.354094        0.0  ...            0            0            0\n",
              "4  12.510588  12.271365        0.0  ...            1            0            0\n",
              "\n",
              "[5 rows x 292 columns]"
            ]
          },
          "metadata": {
            "tags": []
          },
          "execution_count": 50
        }
      ]
    },
    {
      "cell_type": "code",
      "metadata": {
        "id": "ZcShcykHH5yB",
        "colab_type": "code",
        "colab": {
          "base_uri": "https://localhost:8080/",
          "height": 211
        },
        "outputId": "2728b478-0ad8-43ad-bfe4-3db277e21a93"
      },
      "source": [
        "all_data.head()"
      ],
      "execution_count": 51,
      "outputs": [
        {
          "output_type": "execute_result",
          "data": {
            "text/html": [
              "<div>\n",
              "<style scoped>\n",
              "    .dataframe tbody tr th:only-of-type {\n",
              "        vertical-align: middle;\n",
              "    }\n",
              "\n",
              "    .dataframe tbody tr th {\n",
              "        vertical-align: top;\n",
              "    }\n",
              "\n",
              "    .dataframe thead th {\n",
              "        text-align: right;\n",
              "    }\n",
              "</style>\n",
              "<table border=\"1\" class=\"dataframe\">\n",
              "  <thead>\n",
              "    <tr style=\"text-align: right;\">\n",
              "      <th></th>\n",
              "      <th>1stFlrSF</th>\n",
              "      <th>2ndFlrSF</th>\n",
              "      <th>3SsnPorch</th>\n",
              "      <th>Alley</th>\n",
              "      <th>BedroomAbvGr</th>\n",
              "      <th>BldgType</th>\n",
              "      <th>BsmtCond</th>\n",
              "      <th>BsmtExposure</th>\n",
              "      <th>BsmtFinSF1</th>\n",
              "      <th>BsmtFinSF2</th>\n",
              "      <th>BsmtFinType1</th>\n",
              "      <th>BsmtFinType2</th>\n",
              "      <th>BsmtFullBath</th>\n",
              "      <th>BsmtHalfBath</th>\n",
              "      <th>BsmtQual</th>\n",
              "      <th>BsmtUnfSF</th>\n",
              "      <th>CentralAir</th>\n",
              "      <th>Condition1</th>\n",
              "      <th>Condition2</th>\n",
              "      <th>Electrical</th>\n",
              "      <th>EnclosedPorch</th>\n",
              "      <th>ExterCond</th>\n",
              "      <th>ExterQual</th>\n",
              "      <th>Exterior1st</th>\n",
              "      <th>Exterior2nd</th>\n",
              "      <th>Fence</th>\n",
              "      <th>FireplaceQu</th>\n",
              "      <th>Fireplaces</th>\n",
              "      <th>Foundation</th>\n",
              "      <th>FullBath</th>\n",
              "      <th>Functional</th>\n",
              "      <th>GarageArea</th>\n",
              "      <th>GarageCars</th>\n",
              "      <th>GarageCond</th>\n",
              "      <th>GarageFinish</th>\n",
              "      <th>GarageQual</th>\n",
              "      <th>GarageType</th>\n",
              "      <th>GarageYrBlt</th>\n",
              "      <th>GrLivArea</th>\n",
              "      <th>HalfBath</th>\n",
              "      <th>Heating</th>\n",
              "      <th>HeatingQC</th>\n",
              "      <th>HouseStyle</th>\n",
              "      <th>KitchenAbvGr</th>\n",
              "      <th>KitchenQual</th>\n",
              "      <th>LandContour</th>\n",
              "      <th>LandSlope</th>\n",
              "      <th>LotArea</th>\n",
              "      <th>LotConfig</th>\n",
              "      <th>LotFrontage</th>\n",
              "      <th>LotShape</th>\n",
              "      <th>LowQualFinSF</th>\n",
              "      <th>MSSubClass</th>\n",
              "      <th>MSZoning</th>\n",
              "      <th>MasVnrArea</th>\n",
              "      <th>MasVnrType</th>\n",
              "      <th>MiscFeature</th>\n",
              "      <th>MiscVal</th>\n",
              "      <th>MoSold</th>\n",
              "      <th>Neighborhood</th>\n",
              "      <th>OpenPorchSF</th>\n",
              "      <th>OverallCond</th>\n",
              "      <th>OverallQual</th>\n",
              "      <th>PavedDrive</th>\n",
              "      <th>PoolArea</th>\n",
              "      <th>PoolQC</th>\n",
              "      <th>RoofMatl</th>\n",
              "      <th>RoofStyle</th>\n",
              "      <th>SaleCondition</th>\n",
              "      <th>SaleType</th>\n",
              "      <th>ScreenPorch</th>\n",
              "      <th>Street</th>\n",
              "      <th>TotRmsAbvGrd</th>\n",
              "      <th>TotalBsmtSF</th>\n",
              "      <th>WoodDeckSF</th>\n",
              "      <th>YearBuilt</th>\n",
              "      <th>YearRemodAdd</th>\n",
              "      <th>YrSold</th>\n",
              "      <th>TotalArea</th>\n",
              "    </tr>\n",
              "  </thead>\n",
              "  <tbody>\n",
              "    <tr>\n",
              "      <th>0</th>\n",
              "      <td>11.692623</td>\n",
              "      <td>11.686189</td>\n",
              "      <td>0.0</td>\n",
              "      <td>None</td>\n",
              "      <td>1.540963</td>\n",
              "      <td>1Fam</td>\n",
              "      <td>TA</td>\n",
              "      <td>No</td>\n",
              "      <td>11.170327</td>\n",
              "      <td>0.0</td>\n",
              "      <td>GLQ</td>\n",
              "      <td>Unf</td>\n",
              "      <td>0.730463</td>\n",
              "      <td>0.000000</td>\n",
              "      <td>Gd</td>\n",
              "      <td>7.483296</td>\n",
              "      <td>Y</td>\n",
              "      <td>Norm</td>\n",
              "      <td>Norm</td>\n",
              "      <td>SBrkr</td>\n",
              "      <td>0.000000</td>\n",
              "      <td>TA</td>\n",
              "      <td>Gd</td>\n",
              "      <td>VinylSd</td>\n",
              "      <td>VinylSd</td>\n",
              "      <td>None</td>\n",
              "      <td>None</td>\n",
              "      <td>0.000000</td>\n",
              "      <td>PConc</td>\n",
              "      <td>1.194318</td>\n",
              "      <td>Typ</td>\n",
              "      <td>10.506271</td>\n",
              "      <td>1.194318</td>\n",
              "      <td>TA</td>\n",
              "      <td>RFn</td>\n",
              "      <td>TA</td>\n",
              "      <td>Attchd</td>\n",
              "      <td>14.187527</td>\n",
              "      <td>13.698888</td>\n",
              "      <td>0.730463</td>\n",
              "      <td>GasA</td>\n",
              "      <td>Ex</td>\n",
              "      <td>2Story</td>\n",
              "      <td>0.730463</td>\n",
              "      <td>Gd</td>\n",
              "      <td>Lvl</td>\n",
              "      <td>Gtl</td>\n",
              "      <td>19.212182</td>\n",
              "      <td>Inside</td>\n",
              "      <td>5.831328</td>\n",
              "      <td>Reg</td>\n",
              "      <td>0.0</td>\n",
              "      <td>60</td>\n",
              "      <td>RL</td>\n",
              "      <td>8.059126</td>\n",
              "      <td>BrkFace</td>\n",
              "      <td>None</td>\n",
              "      <td>0.0</td>\n",
              "      <td>2</td>\n",
              "      <td>CollgCr</td>\n",
              "      <td>5.714669</td>\n",
              "      <td>5</td>\n",
              "      <td>2.440268</td>\n",
              "      <td>Y</td>\n",
              "      <td>0.0</td>\n",
              "      <td>None</td>\n",
              "      <td>CompShg</td>\n",
              "      <td>Gable</td>\n",
              "      <td>Normal</td>\n",
              "      <td>WD</td>\n",
              "      <td>0.0</td>\n",
              "      <td>Pave</td>\n",
              "      <td>2.602594</td>\n",
              "      <td>11.692623</td>\n",
              "      <td>0.000000</td>\n",
              "      <td>14.187527</td>\n",
              "      <td>14.187527</td>\n",
              "      <td>2008</td>\n",
              "      <td>14.976591</td>\n",
              "    </tr>\n",
              "    <tr>\n",
              "      <th>1</th>\n",
              "      <td>12.792276</td>\n",
              "      <td>0.000000</td>\n",
              "      <td>0.0</td>\n",
              "      <td>None</td>\n",
              "      <td>1.540963</td>\n",
              "      <td>1Fam</td>\n",
              "      <td>TA</td>\n",
              "      <td>Gd</td>\n",
              "      <td>12.062832</td>\n",
              "      <td>0.0</td>\n",
              "      <td>ALQ</td>\n",
              "      <td>Unf</td>\n",
              "      <td>0.000000</td>\n",
              "      <td>0.730463</td>\n",
              "      <td>Gd</td>\n",
              "      <td>8.897844</td>\n",
              "      <td>Y</td>\n",
              "      <td>Feedr</td>\n",
              "      <td>Norm</td>\n",
              "      <td>SBrkr</td>\n",
              "      <td>0.000000</td>\n",
              "      <td>TA</td>\n",
              "      <td>TA</td>\n",
              "      <td>MetalSd</td>\n",
              "      <td>MetalSd</td>\n",
              "      <td>None</td>\n",
              "      <td>TA</td>\n",
              "      <td>0.730463</td>\n",
              "      <td>CBlock</td>\n",
              "      <td>1.194318</td>\n",
              "      <td>Typ</td>\n",
              "      <td>10.062098</td>\n",
              "      <td>1.194318</td>\n",
              "      <td>TA</td>\n",
              "      <td>RFn</td>\n",
              "      <td>TA</td>\n",
              "      <td>Attchd</td>\n",
              "      <td>14.145138</td>\n",
              "      <td>12.792276</td>\n",
              "      <td>0.000000</td>\n",
              "      <td>GasA</td>\n",
              "      <td>Ex</td>\n",
              "      <td>1Story</td>\n",
              "      <td>0.730463</td>\n",
              "      <td>TA</td>\n",
              "      <td>Lvl</td>\n",
              "      <td>Gtl</td>\n",
              "      <td>19.712205</td>\n",
              "      <td>FR2</td>\n",
              "      <td>6.221214</td>\n",
              "      <td>Reg</td>\n",
              "      <td>0.0</td>\n",
              "      <td>20</td>\n",
              "      <td>RL</td>\n",
              "      <td>0.000000</td>\n",
              "      <td>None</td>\n",
              "      <td>None</td>\n",
              "      <td>0.0</td>\n",
              "      <td>5</td>\n",
              "      <td>Veenker</td>\n",
              "      <td>0.000000</td>\n",
              "      <td>8</td>\n",
              "      <td>2.259674</td>\n",
              "      <td>Y</td>\n",
              "      <td>0.0</td>\n",
              "      <td>None</td>\n",
              "      <td>CompShg</td>\n",
              "      <td>Gable</td>\n",
              "      <td>Normal</td>\n",
              "      <td>WD</td>\n",
              "      <td>0.0</td>\n",
              "      <td>Pave</td>\n",
              "      <td>2.259674</td>\n",
              "      <td>12.792276</td>\n",
              "      <td>9.010206</td>\n",
              "      <td>14.145138</td>\n",
              "      <td>14.145138</td>\n",
              "      <td>2007</td>\n",
              "      <td>14.923100</td>\n",
              "    </tr>\n",
              "    <tr>\n",
              "      <th>2</th>\n",
              "      <td>11.892039</td>\n",
              "      <td>11.724598</td>\n",
              "      <td>0.0</td>\n",
              "      <td>None</td>\n",
              "      <td>1.540963</td>\n",
              "      <td>1Fam</td>\n",
              "      <td>TA</td>\n",
              "      <td>Mn</td>\n",
              "      <td>10.200343</td>\n",
              "      <td>0.0</td>\n",
              "      <td>GLQ</td>\n",
              "      <td>Unf</td>\n",
              "      <td>0.730463</td>\n",
              "      <td>0.000000</td>\n",
              "      <td>Gd</td>\n",
              "      <td>9.917060</td>\n",
              "      <td>Y</td>\n",
              "      <td>Norm</td>\n",
              "      <td>Norm</td>\n",
              "      <td>SBrkr</td>\n",
              "      <td>0.000000</td>\n",
              "      <td>TA</td>\n",
              "      <td>Gd</td>\n",
              "      <td>VinylSd</td>\n",
              "      <td>VinylSd</td>\n",
              "      <td>None</td>\n",
              "      <td>TA</td>\n",
              "      <td>0.730463</td>\n",
              "      <td>PConc</td>\n",
              "      <td>1.194318</td>\n",
              "      <td>Typ</td>\n",
              "      <td>10.775536</td>\n",
              "      <td>1.194318</td>\n",
              "      <td>TA</td>\n",
              "      <td>RFn</td>\n",
              "      <td>TA</td>\n",
              "      <td>Attchd</td>\n",
              "      <td>14.184404</td>\n",
              "      <td>13.832085</td>\n",
              "      <td>0.730463</td>\n",
              "      <td>GasA</td>\n",
              "      <td>Ex</td>\n",
              "      <td>2Story</td>\n",
              "      <td>0.730463</td>\n",
              "      <td>Gd</td>\n",
              "      <td>Lvl</td>\n",
              "      <td>Gtl</td>\n",
              "      <td>20.347241</td>\n",
              "      <td>Inside</td>\n",
              "      <td>5.914940</td>\n",
              "      <td>IR1</td>\n",
              "      <td>0.0</td>\n",
              "      <td>60</td>\n",
              "      <td>RL</td>\n",
              "      <td>7.646538</td>\n",
              "      <td>BrkFace</td>\n",
              "      <td>None</td>\n",
              "      <td>0.0</td>\n",
              "      <td>9</td>\n",
              "      <td>CollgCr</td>\n",
              "      <td>5.053371</td>\n",
              "      <td>5</td>\n",
              "      <td>2.440268</td>\n",
              "      <td>Y</td>\n",
              "      <td>0.0</td>\n",
              "      <td>None</td>\n",
              "      <td>CompShg</td>\n",
              "      <td>Gable</td>\n",
              "      <td>Normal</td>\n",
              "      <td>WD</td>\n",
              "      <td>0.0</td>\n",
              "      <td>Pave</td>\n",
              "      <td>2.259674</td>\n",
              "      <td>11.892039</td>\n",
              "      <td>0.000000</td>\n",
              "      <td>14.184404</td>\n",
              "      <td>14.185966</td>\n",
              "      <td>2008</td>\n",
              "      <td>15.149678</td>\n",
              "    </tr>\n",
              "    <tr>\n",
              "      <th>3</th>\n",
              "      <td>12.013683</td>\n",
              "      <td>11.354094</td>\n",
              "      <td>0.0</td>\n",
              "      <td>None</td>\n",
              "      <td>1.540963</td>\n",
              "      <td>1Fam</td>\n",
              "      <td>Gd</td>\n",
              "      <td>No</td>\n",
              "      <td>8.274266</td>\n",
              "      <td>0.0</td>\n",
              "      <td>ALQ</td>\n",
              "      <td>Unf</td>\n",
              "      <td>0.730463</td>\n",
              "      <td>0.000000</td>\n",
              "      <td>TA</td>\n",
              "      <td>10.468500</td>\n",
              "      <td>Y</td>\n",
              "      <td>Norm</td>\n",
              "      <td>Norm</td>\n",
              "      <td>SBrkr</td>\n",
              "      <td>8.797736</td>\n",
              "      <td>TA</td>\n",
              "      <td>TA</td>\n",
              "      <td>Wd Sdng</td>\n",
              "      <td>Wd Shng</td>\n",
              "      <td>None</td>\n",
              "      <td>Gd</td>\n",
              "      <td>0.730463</td>\n",
              "      <td>BrkTil</td>\n",
              "      <td>0.730463</td>\n",
              "      <td>Typ</td>\n",
              "      <td>10.918253</td>\n",
              "      <td>1.540963</td>\n",
              "      <td>TA</td>\n",
              "      <td>Unf</td>\n",
              "      <td>TA</td>\n",
              "      <td>Detchd</td>\n",
              "      <td>14.179714</td>\n",
              "      <td>13.711364</td>\n",
              "      <td>0.000000</td>\n",
              "      <td>GasA</td>\n",
              "      <td>Gd</td>\n",
              "      <td>2Story</td>\n",
              "      <td>0.730463</td>\n",
              "      <td>Gd</td>\n",
              "      <td>Lvl</td>\n",
              "      <td>Gtl</td>\n",
              "      <td>19.691553</td>\n",
              "      <td>Corner</td>\n",
              "      <td>5.684507</td>\n",
              "      <td>IR1</td>\n",
              "      <td>0.0</td>\n",
              "      <td>70</td>\n",
              "      <td>RL</td>\n",
              "      <td>0.000000</td>\n",
              "      <td>None</td>\n",
              "      <td>None</td>\n",
              "      <td>0.0</td>\n",
              "      <td>2</td>\n",
              "      <td>Crawfor</td>\n",
              "      <td>4.745132</td>\n",
              "      <td>5</td>\n",
              "      <td>2.440268</td>\n",
              "      <td>Y</td>\n",
              "      <td>0.0</td>\n",
              "      <td>None</td>\n",
              "      <td>CompShg</td>\n",
              "      <td>Gable</td>\n",
              "      <td>Abnorml</td>\n",
              "      <td>WD</td>\n",
              "      <td>0.0</td>\n",
              "      <td>Pave</td>\n",
              "      <td>2.440268</td>\n",
              "      <td>11.354094</td>\n",
              "      <td>0.000000</td>\n",
              "      <td>14.047529</td>\n",
              "      <td>14.135652</td>\n",
              "      <td>2006</td>\n",
              "      <td>14.857121</td>\n",
              "    </tr>\n",
              "    <tr>\n",
              "      <th>4</th>\n",
              "      <td>12.510588</td>\n",
              "      <td>12.271365</td>\n",
              "      <td>0.0</td>\n",
              "      <td>None</td>\n",
              "      <td>1.820334</td>\n",
              "      <td>1Fam</td>\n",
              "      <td>TA</td>\n",
              "      <td>Av</td>\n",
              "      <td>10.971129</td>\n",
              "      <td>0.0</td>\n",
              "      <td>GLQ</td>\n",
              "      <td>Unf</td>\n",
              "      <td>0.730463</td>\n",
              "      <td>0.000000</td>\n",
              "      <td>Gd</td>\n",
              "      <td>10.221051</td>\n",
              "      <td>Y</td>\n",
              "      <td>Norm</td>\n",
              "      <td>Norm</td>\n",
              "      <td>SBrkr</td>\n",
              "      <td>0.000000</td>\n",
              "      <td>TA</td>\n",
              "      <td>Gd</td>\n",
              "      <td>VinylSd</td>\n",
              "      <td>VinylSd</td>\n",
              "      <td>None</td>\n",
              "      <td>TA</td>\n",
              "      <td>0.730463</td>\n",
              "      <td>PConc</td>\n",
              "      <td>1.194318</td>\n",
              "      <td>Typ</td>\n",
              "      <td>11.627708</td>\n",
              "      <td>1.540963</td>\n",
              "      <td>TA</td>\n",
              "      <td>RFn</td>\n",
              "      <td>TA</td>\n",
              "      <td>Attchd</td>\n",
              "      <td>14.182841</td>\n",
              "      <td>14.480029</td>\n",
              "      <td>0.730463</td>\n",
              "      <td>GasA</td>\n",
              "      <td>Ex</td>\n",
              "      <td>2Story</td>\n",
              "      <td>0.730463</td>\n",
              "      <td>Gd</td>\n",
              "      <td>Lvl</td>\n",
              "      <td>Gtl</td>\n",
              "      <td>21.325160</td>\n",
              "      <td>FR2</td>\n",
              "      <td>6.314735</td>\n",
              "      <td>IR1</td>\n",
              "      <td>0.0</td>\n",
              "      <td>60</td>\n",
              "      <td>RL</td>\n",
              "      <td>9.391827</td>\n",
              "      <td>BrkFace</td>\n",
              "      <td>None</td>\n",
              "      <td>0.0</td>\n",
              "      <td>12</td>\n",
              "      <td>NoRidge</td>\n",
              "      <td>6.314735</td>\n",
              "      <td>5</td>\n",
              "      <td>2.602594</td>\n",
              "      <td>Y</td>\n",
              "      <td>0.0</td>\n",
              "      <td>None</td>\n",
              "      <td>CompShg</td>\n",
              "      <td>Gable</td>\n",
              "      <td>Normal</td>\n",
              "      <td>WD</td>\n",
              "      <td>0.0</td>\n",
              "      <td>Pave</td>\n",
              "      <td>2.750250</td>\n",
              "      <td>12.510588</td>\n",
              "      <td>8.013884</td>\n",
              "      <td>14.182841</td>\n",
              "      <td>14.182841</td>\n",
              "      <td>2008</td>\n",
              "      <td>15.852312</td>\n",
              "    </tr>\n",
              "  </tbody>\n",
              "</table>\n",
              "</div>"
            ],
            "text/plain": [
              "    1stFlrSF   2ndFlrSF  3SsnPorch  ... YearRemodAdd  YrSold  TotalArea\n",
              "0  11.692623  11.686189        0.0  ...    14.187527    2008  14.976591\n",
              "1  12.792276   0.000000        0.0  ...    14.145138    2007  14.923100\n",
              "2  11.892039  11.724598        0.0  ...    14.185966    2008  15.149678\n",
              "3  12.013683  11.354094        0.0  ...    14.135652    2006  14.857121\n",
              "4  12.510588  12.271365        0.0  ...    14.182841    2008  15.852312\n",
              "\n",
              "[5 rows x 79 columns]"
            ]
          },
          "metadata": {
            "tags": []
          },
          "execution_count": 51
        }
      ]
    },
    {
      "cell_type": "code",
      "metadata": {
        "id": "wWJKFIj0H9F-",
        "colab_type": "code",
        "colab": {}
      },
      "source": [
        "all_data=X_re"
      ],
      "execution_count": 0,
      "outputs": []
    },
    {
      "cell_type": "markdown",
      "metadata": {
        "_cell_guid": "243cf047-c2ba-4ae5-a531-22ef9b7cfbfe",
        "_execution_state": "idle",
        "_uuid": "fe9d78c7e37142ee8089826eca3065e0fa5803c1",
        "id": "Yt26ThMCGdeu",
        "colab_type": "text"
      },
      "source": [
        "Redifinimos el dataset train y test"
      ]
    },
    {
      "cell_type": "code",
      "metadata": {
        "_cell_guid": "0a75646f-1974-40ad-a085-ff7bc08454a5",
        "_execution_state": "idle",
        "_uuid": "89e464095544a53177d5a009b914ba4c660072a7",
        "id": "ERHlNG3dGdev",
        "colab_type": "code",
        "colab": {}
      },
      "source": [
        "train = all_data[:ntrain]\n",
        "test = all_data[ntrain:]\n"
      ],
      "execution_count": 0,
      "outputs": []
    },
    {
      "cell_type": "markdown",
      "metadata": {
        "_cell_guid": "461af83d-a928-4645-8512-5e4dbcaf7be0",
        "_execution_state": "idle",
        "_uuid": "10aab4cee97832560e2627a490e01e80c0ffb814",
        "id": "Kl1jncH5Gdew",
        "colab_type": "text"
      },
      "source": [
        "# Modelos"
      ]
    },
    {
      "cell_type": "markdown",
      "metadata": {
        "_cell_guid": "811925a6-341f-4cae-89c9-00983868a6b2",
        "_execution_state": "idle",
        "_uuid": "be4e4b315682b26359eba1ba3d65022aca9501e1",
        "id": "WteOSg0tGde5",
        "colab_type": "text"
      },
      "source": [
        "**Importamos librerías**"
      ]
    },
    {
      "cell_type": "code",
      "metadata": {
        "_cell_guid": "135e8ac5-ce46-4a5f-b205-13f827ef33b8",
        "_execution_state": "idle",
        "_uuid": "fc664fbe27561a3697d0210921107b0e14b7d211",
        "id": "gE8y7oVgGde7",
        "colab_type": "code",
        "colab": {}
      },
      "source": [
        "from sklearn.linear_model import ElasticNet, Lasso,  BayesianRidge, LassoLarsIC\n",
        "from sklearn.ensemble import RandomForestRegressor,  GradientBoostingRegressor\n",
        "from sklearn.kernel_ridge import KernelRidge\n",
        "from sklearn.pipeline import make_pipeline\n",
        "from sklearn.preprocessing import RobustScaler\n",
        "from sklearn.base import BaseEstimator, TransformerMixin, RegressorMixin, clone\n",
        "from sklearn.model_selection import KFold, cross_val_score, train_test_split\n",
        "from sklearn.metrics import mean_squared_error\n",
        "\n"
      ],
      "execution_count": 0,
      "outputs": []
    },
    {
      "cell_type": "markdown",
      "metadata": {
        "_cell_guid": "7aa6ebb9-27a7-4bd3-a7b2-4ddc6a0abbed",
        "_execution_state": "idle",
        "_uuid": "056b657c8f0de30d4708c600eabbb33684c64479",
        "id": "w9fnvFYeGde9",
        "colab_type": "text"
      },
      "source": [
        "**Definir una estrategia de validación cruzada para optimizar los parámetros ingresados**"
      ]
    },
    {
      "cell_type": "markdown",
      "metadata": {
        "_cell_guid": "4a2b5181-44f2-4c74-b482-aae0f5afc25a",
        "_execution_state": "idle",
        "_uuid": "dc0d7a3013f349988b3f2c84a6c130d6ad350170",
        "id": "nFa74AawGde-",
        "colab_type": "text"
      },
      "source": [
        "Usamos la función **cross_val_score** de la librería scikit-learn.\n",
        "Para aleatorizar la validación previamente creamos una variable **kf**"
      ]
    },
    {
      "cell_type": "code",
      "metadata": {
        "_cell_guid": "f396260b-e182-4a87-9a2a-b92b9375ea6f",
        "_execution_state": "idle",
        "_uuid": "5c12551d092a6c5cf32d86398b054da7af3047b8",
        "id": "OTZuWntXGde_",
        "colab_type": "code",
        "colab": {}
      },
      "source": [
        "#Predefinimos la variables n_folds con valor 5\n",
        "n_folds = 5\n",
        "\n",
        "#Creamos la función rmsle_cv para aplicar cross_val_score\n",
        "def rmsle_cv(model):\n",
        "    kf = KFold(n_folds, shuffle=True, random_state=42).get_n_splits(train.values)\n",
        "    rmse= np.sqrt(-cross_val_score(model, train.values, y_train, scoring=\"neg_mean_squared_error\", cv = kf))\n",
        "    return(rmse)"
      ],
      "execution_count": 0,
      "outputs": []
    },
    {
      "cell_type": "markdown",
      "metadata": {
        "_cell_guid": "42e1565e-77a1-41a7-ac31-893e405d34ad",
        "_execution_state": "busy",
        "_uuid": "643ae2c4a88576ebbd55824ce8e654486087a6e0",
        "id": "7mPiF4_HGdfC",
        "colab_type": "text"
      },
      "source": [
        "##Modelos Base"
      ]
    },
    {
      "cell_type": "markdown",
      "metadata": {
        "_cell_guid": "578f088d-1a84-41cb-b945-ec64800f2308",
        "_execution_state": "idle",
        "_uuid": "370125198a0cbbc9336cbf179f00a2ebb02cb063",
        "id": "6fdPUZuqGdfC",
        "colab_type": "text"
      },
      "source": [
        "-  **Regresión Lasso**  : \n",
        "\n",
        "Este modelo es muy sensible a outliers, por ello necesitamos hacer más robusto el modelo a través del parámetro **Robustscaler** dentro de un pipeline"
      ]
    },
    {
      "cell_type": "code",
      "metadata": {
        "_cell_guid": "03f45cb7-0a40-45ea-94e8-64fd7ff1e8f6",
        "_execution_state": "idle",
        "_uuid": "2a50c954cb771d350c3092c3658486ba4d22aba5",
        "id": "7oScyUEwGdfD",
        "colab_type": "code",
        "colab": {}
      },
      "source": [
        "lasso = make_pipeline(RobustScaler(), Lasso(alpha =0.0005, random_state=1))"
      ],
      "execution_count": 0,
      "outputs": []
    },
    {
      "cell_type": "markdown",
      "metadata": {
        "_cell_guid": "2c826f7b-ac66-421c-a7ae-29dfdd765bdb",
        "_execution_state": "idle",
        "_uuid": "30e9756cf63991715b48e8c53bc57906fc76f380",
        "id": "NszThWNmGdfF",
        "colab_type": "text"
      },
      "source": [
        "- **Regresión ElasticNet** :\n",
        "\n",
        "Nuevamente ingresamos el parámetro **Robustscaler** dentro del pipeline para hacer más robusto el modelo"
      ]
    },
    {
      "cell_type": "code",
      "metadata": {
        "_cell_guid": "e635cc7e-caeb-4f8b-ae78-c41f8eb0be59",
        "_execution_state": "idle",
        "_uuid": "b614cf1bdee86a3b1cbdde05298f9f7ae023799b",
        "id": "kI7Em8DkGdfG",
        "colab_type": "code",
        "colab": {}
      },
      "source": [
        "ENet = make_pipeline(RobustScaler(), ElasticNet(alpha=0.0005, l1_ratio=.9, random_state=3))"
      ],
      "execution_count": 0,
      "outputs": []
    },
    {
      "cell_type": "markdown",
      "metadata": {
        "_cell_guid": "7aae5316-4e32-4203-bff5-3b38c1f657c3",
        "_execution_state": "idle",
        "_uuid": "0775061bb477242f1332a048778e879ca540a216",
        "id": "L-JvyppgGdfO",
        "colab_type": "text"
      },
      "source": [
        "- **Regresión Kernel Ridge** :"
      ]
    },
    {
      "cell_type": "code",
      "metadata": {
        "_cell_guid": "805343d9-0af6-43a2-a351-c0b25c62fcf0",
        "_execution_state": "idle",
        "_uuid": "3199c83513d93407c818ce1ed43c6c52e7f5a8c6",
        "id": "CN8lj9KXGdfP",
        "colab_type": "code",
        "colab": {}
      },
      "source": [
        "KRR = KernelRidge(alpha=0.6, kernel='polynomial', degree=2, coef0=2.5)"
      ],
      "execution_count": 0,
      "outputs": []
    },
    {
      "cell_type": "code",
      "metadata": {
        "id": "W9P1i5RAJZ4u",
        "colab_type": "code",
        "colab": {}
      },
      "source": [
        ""
      ],
      "execution_count": 0,
      "outputs": []
    },
    {
      "cell_type": "code",
      "metadata": {
        "id": "zTNkvV83Jau1",
        "colab_type": "code",
        "colab": {}
      },
      "source": [
        ""
      ],
      "execution_count": 0,
      "outputs": []
    },
    {
      "cell_type": "markdown",
      "metadata": {
        "_cell_guid": "9e1eff6a-e937-45e4-96ef-41593e31e1bb",
        "_execution_state": "idle",
        "_uuid": "71bce529300e2f3d9f9f475d01bd7001258dbede",
        "id": "UfappmNsGdfd",
        "colab_type": "text"
      },
      "source": [
        "# Evaluación de los Modelos Base"
      ]
    },
    {
      "cell_type": "code",
      "metadata": {
        "_cell_guid": "2d0cc958-1654-425c-90ed-1ceb9edd7186",
        "_execution_state": "idle",
        "_uuid": "7d994349237b9304b0d17719e1af077e69288229",
        "id": "SnD9CpozGdfe",
        "colab_type": "code",
        "outputId": "3fd7b861-3a99-4b64-bda3-1aea49fdb7fb",
        "colab": {
          "base_uri": "https://localhost:8080/",
          "height": 66
        }
      },
      "source": [
        "score = rmsle_cv(lasso)\n",
        "print(\"\\nLasso score: {:.4f} ({:.4f})\\n\".format(score.mean(), score.std()))"
      ],
      "execution_count": 59,
      "outputs": [
        {
          "output_type": "stream",
          "text": [
            "\n",
            "Lasso score: 0.1147 (0.0060)\n",
            "\n"
          ],
          "name": "stdout"
        }
      ]
    },
    {
      "cell_type": "code",
      "metadata": {
        "_cell_guid": "7cf6faaf-d69a-4268-b192-a9e60d207c28",
        "_execution_state": "idle",
        "_uuid": "b6d299b9d4a0cdb23ddd8459b3935da2948016d6",
        "id": "l83QBk0IGdfg",
        "colab_type": "code",
        "outputId": "918fc808-0e9d-435f-e382-2f15d84ed8b4",
        "colab": {
          "base_uri": "https://localhost:8080/",
          "height": 50
        }
      },
      "source": [
        "score = rmsle_cv(ENet)\n",
        "print(\"ElasticNet score: {:.4f} ({:.4f})\\n\".format(score.mean(), score.std()))"
      ],
      "execution_count": 60,
      "outputs": [
        {
          "output_type": "stream",
          "text": [
            "ElasticNet score: 0.1146 (0.0061)\n",
            "\n"
          ],
          "name": "stdout"
        }
      ]
    },
    {
      "cell_type": "code",
      "metadata": {
        "_cell_guid": "a1195106-2170-47f2-86a7-c4f3be683aa8",
        "_execution_state": "idle",
        "_uuid": "437dc093e88d661a369539520af1b4c37d1a0c1a",
        "id": "YJF0RqVDGdfi",
        "colab_type": "code",
        "outputId": "f1e4a357-01da-473c-fa6d-2eb89ac82b1d",
        "colab": {
          "base_uri": "https://localhost:8080/",
          "height": 50
        }
      },
      "source": [
        "score = rmsle_cv(KRR)\n",
        "print(\"Kernel Ridge score: {:.4f} ({:.4f})\\n\".format(score.mean(), score.std()))"
      ],
      "execution_count": 61,
      "outputs": [
        {
          "output_type": "stream",
          "text": [
            "Kernel Ridge score: 0.1160 (0.0053)\n",
            "\n"
          ],
          "name": "stdout"
        }
      ]
    },
    {
      "cell_type": "code",
      "metadata": {
        "id": "BEMRiIRHJcV4",
        "colab_type": "code",
        "colab": {}
      },
      "source": [
        ""
      ],
      "execution_count": 0,
      "outputs": []
    },
    {
      "cell_type": "code",
      "metadata": {
        "id": "0uKVsQW8JdC1",
        "colab_type": "code",
        "colab": {}
      },
      "source": [
        ""
      ],
      "execution_count": 0,
      "outputs": []
    },
    {
      "cell_type": "markdown",
      "metadata": {
        "_cell_guid": "1114bc71-7eb5-4a7c-97a1-42a69cc21130",
        "_execution_state": "idle",
        "_uuid": "06d3adc16585b54a85113882975297c67672ea07",
        "colab_type": "text",
        "id": "SXCV7KOM7hfa"
      },
      "source": [
        "# Stacking  models"
      ]
    },
    {
      "cell_type": "markdown",
      "metadata": {
        "id": "gsZ2lAMN9wF5",
        "colab_type": "text"
      },
      "source": [
        "Agregacion de modelos , se usan los resultados de los modelos anteriores y se promedian para obtener un predictor mas avanzado"
      ]
    },
    {
      "cell_type": "code",
      "metadata": {
        "id": "u0qUltbp9hKl",
        "colab_type": "code",
        "colab": {}
      },
      "source": [
        "class AveragingModels(BaseEstimator, RegressorMixin, TransformerMixin):\n",
        "    def __init__(self, models):\n",
        "        self.models = models\n",
        "        \n",
        "    # we define clones of the original models to fit the data in\n",
        "    def fit(self, X, y):\n",
        "        self.models_ = [clone(x) for x in self.models]\n",
        "        \n",
        "        # Train cloned base models\n",
        "        for model in self.models_:\n",
        "            model.fit(X, y)\n",
        "\n",
        "        return self\n",
        "    \n",
        "    #Now we do the predictions for cloned models and average them\n",
        "    def predict(self, X):\n",
        "        predictions = np.column_stack([\n",
        "            model.predict(X) for model in self.models_\n",
        "        ])\n",
        "        return np.mean(predictions, axis=1) "
      ],
      "execution_count": 0,
      "outputs": []
    },
    {
      "cell_type": "code",
      "metadata": {
        "colab_type": "code",
        "id": "yGeuqO0z9i65",
        "colab": {
          "base_uri": "https://localhost:8080/",
          "height": 50
        },
        "outputId": "c25e8dae-a4f1-4de5-f44d-316d9941d1f5"
      },
      "source": [
        "averaged_models = AveragingModels(models = (ENet, KRR, lasso))\n",
        "\n",
        "score = rmsle_cv(averaged_models)\n",
        "print(\" Averaged base models score: {:.4f} ({:.4f})\\n\".format(score.mean(), score.std()))"
      ],
      "execution_count": 64,
      "outputs": [
        {
          "output_type": "stream",
          "text": [
            " Averaged base models score: 0.1134 (0.0059)\n",
            "\n"
          ],
          "name": "stdout"
        }
      ]
    },
    {
      "cell_type": "code",
      "metadata": {
        "id": "7ZYKwZyOJfzx",
        "colab_type": "code",
        "colab": {}
      },
      "source": [
        ""
      ],
      "execution_count": 0,
      "outputs": []
    }
  ]
}